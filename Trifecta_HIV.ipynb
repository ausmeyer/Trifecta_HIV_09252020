{
 "cells": [
  {
   "cell_type": "code",
   "execution_count": 1,
   "metadata": {
    "hideCode": false,
    "slideshow": {
     "slide_type": "skip"
    }
   },
   "outputs": [
    {
     "data": {
      "text/plain": [
       "RendererRegistry.enable('html')"
      ]
     },
     "execution_count": 1,
     "metadata": {},
     "output_type": "execute_result"
    }
   ],
   "source": [
    "import pandas as pd\n",
    "import altair as alt\n",
    "\n",
    "from IPython.display import HTML\n",
    "\n",
    "import warnings\n",
    "warnings.filterwarnings('ignore')\n",
    "\n",
    "alt.renderers.enable('html')"
   ]
  },
  {
   "cell_type": "markdown",
   "metadata": {
    "cell_style": "center",
    "slideshow": {
     "slide_type": "slide"
    }
   },
   "source": [
    "# Trifecta Lecture Series: HIV\n",
    "\n",
    "### Austin G. Meyer, xyz\n",
    "\n",
    "<br>\n",
    "<br>\n",
    "\n",
    "<img src=\"figs/OSU-WexMedCtr-4C-StackedK-CMYK.jpg\" width=\"230\" align=\"left\"/>\n",
    "<img src=\"figs/Nationwide_childrens_2011.jpg\" width=\"500\" align=\"right\"/>"
   ]
  },
  {
   "cell_type": "markdown",
   "metadata": {
    "slideshow": {
     "slide_type": "slide"
    }
   },
   "source": [
    "## Overview\n",
    "\n",
    "- Resources (most important thing)\n",
    "- Preliminary things to know\n",
    "- Basic Perinatal Care\n",
    "- Cases in Adolescence \n",
    "    - High Risk of Infection\n",
    "    - After Infection\n",
    "- Adult HIV Primary Care"
   ]
  },
  {
   "cell_type": "markdown",
   "metadata": {
    "slideshow": {
     "slide_type": "slide"
    }
   },
   "source": [
    "## Resources"
   ]
  },
  {
   "cell_type": "markdown",
   "metadata": {
    "slideshow": {
     "slide_type": "subslide"
    }
   },
   "source": [
    "### National HIV Curriculum - University of Washington"
   ]
  },
  {
   "cell_type": "markdown",
   "metadata": {},
   "source": [
    "<center>\n",
    "<img src=\"figs/UWashington_HIV.png\" width=\"700\"/>\n",
    "</center>"
   ]
  },
  {
   "cell_type": "markdown",
   "metadata": {
    "slideshow": {
     "slide_type": "subslide"
    }
   },
   "source": [
    "### Clinical Info (formerly Aids Info)"
   ]
  },
  {
   "cell_type": "markdown",
   "metadata": {},
   "source": [
    "<center>\n",
    "<img src=\"figs/AidsInfo.png\" width=\"750\"/>\n",
    "</center>"
   ]
  },
  {
   "cell_type": "markdown",
   "metadata": {
    "slideshow": {
     "slide_type": "subslide"
    }
   },
   "source": [
    "### American Academy of HIV Medicine"
   ]
  },
  {
   "cell_type": "markdown",
   "metadata": {},
   "source": [
    "<center>\n",
    "<img src=\"figs/aahivm.png\" width=\"750\"/>\n",
    "</center>"
   ]
  },
  {
   "cell_type": "markdown",
   "metadata": {
    "slideshow": {
     "slide_type": "slide"
    }
   },
   "source": [
    "## Preliminary things to know"
   ]
  },
  {
   "cell_type": "markdown",
   "metadata": {
    "slideshow": {
     "slide_type": "subslide"
    }
   },
   "source": [
    "### A couple of things I find interesting (sorry)\n",
    "\n",
    "HIV-1 probably emerged around 1910 in Cameroon before spreading to Kinshasa\n",
    "<br>\n",
    "<center>\n",
    "<img src=\"figs/F1.large.jpg\" width=\"800\"/>\n",
    "</center>"
   ]
  },
  {
   "cell_type": "markdown",
   "metadata": {
    "slideshow": {
     "slide_type": "subslide"
    }
   },
   "source": [
    "After reaching Kinshasa, the virus spread across Central Africa and to the coast for 40 years before exploding across the globe\n",
    "<br>\n",
    "<center>\n",
    "<img src=\"figs/F2.large.jpg\" width=\"600\"/>\n",
    "</center>"
   ]
  },
  {
   "cell_type": "markdown",
   "metadata": {
    "slideshow": {
     "slide_type": "subslide"
    }
   },
   "source": [
    "### Epidemiology in United States"
   ]
  },
  {
   "cell_type": "markdown",
   "metadata": {
    "slideshow": {
     "slide_type": "subslide"
    }
   },
   "source": [
    "### Number of new diagnoses is declining"
   ]
  },
  {
   "cell_type": "code",
   "execution_count": 2,
   "metadata": {
    "hideCode": false,
    "hidePrompt": false,
    "slideshow": {
     "slide_type": "fragment"
    }
   },
   "outputs": [
    {
     "data": {
      "text/html": [
       "\n",
       "<div id=\"altair-viz-81b1e34d3ee34a05be95ba6f0422eb1e\"></div>\n",
       "<script type=\"text/javascript\">\n",
       "  (function(spec, embedOpt){\n",
       "    let outputDiv = document.currentScript.previousElementSibling;\n",
       "    if (outputDiv.id !== \"altair-viz-81b1e34d3ee34a05be95ba6f0422eb1e\") {\n",
       "      outputDiv = document.getElementById(\"altair-viz-81b1e34d3ee34a05be95ba6f0422eb1e\");\n",
       "    }\n",
       "    const paths = {\n",
       "      \"vega\": \"https://cdn.jsdelivr.net/npm//vega@5?noext\",\n",
       "      \"vega-lib\": \"https://cdn.jsdelivr.net/npm//vega-lib?noext\",\n",
       "      \"vega-lite\": \"https://cdn.jsdelivr.net/npm//vega-lite@4.8.1?noext\",\n",
       "      \"vega-embed\": \"https://cdn.jsdelivr.net/npm//vega-embed@6?noext\",\n",
       "    };\n",
       "\n",
       "    function loadScript(lib) {\n",
       "      return new Promise(function(resolve, reject) {\n",
       "        var s = document.createElement('script');\n",
       "        s.src = paths[lib];\n",
       "        s.async = true;\n",
       "        s.onload = () => resolve(paths[lib]);\n",
       "        s.onerror = () => reject(`Error loading script: ${paths[lib]}`);\n",
       "        document.getElementsByTagName(\"head\")[0].appendChild(s);\n",
       "      });\n",
       "    }\n",
       "\n",
       "    function showError(err) {\n",
       "      outputDiv.innerHTML = `<div class=\"error\" style=\"color:red;\">${err}</div>`;\n",
       "      throw err;\n",
       "    }\n",
       "\n",
       "    function displayChart(vegaEmbed) {\n",
       "      vegaEmbed(outputDiv, spec, embedOpt)\n",
       "        .catch(err => showError(`Javascript Error: ${err.message}<br>This usually means there's a typo in your chart specification. See the javascript console for the full traceback.`));\n",
       "    }\n",
       "\n",
       "    if(typeof define === \"function\" && define.amd) {\n",
       "      requirejs.config({paths});\n",
       "      require([\"vega-embed\"], displayChart, err => showError(`Error loading script: ${err.message}`));\n",
       "    } else if (typeof vegaEmbed === \"function\") {\n",
       "      displayChart(vegaEmbed);\n",
       "    } else {\n",
       "      loadScript(\"vega\")\n",
       "        .then(() => loadScript(\"vega-lite\"))\n",
       "        .then(() => loadScript(\"vega-embed\"))\n",
       "        .catch(showError)\n",
       "        .then(() => displayChart(vegaEmbed));\n",
       "    }\n",
       "  })({\"config\": {\"view\": {\"continuousWidth\": 400, \"continuousHeight\": 300}, \"axis\": {\"labelFontSize\": 16, \"titleFontSize\": 18}, \"axisX\": {\"labelAngle\": 0, \"tickBand\": \"extent\"}}, \"hconcat\": [{\"layer\": [{\"mark\": {\"type\": \"circle\", \"opacity\": 1.0, \"size\": 200}, \"encoding\": {\"x\": {\"type\": \"nominal\", \"field\": \"year\", \"title\": null}, \"y\": {\"type\": \"quantitative\", \"field\": \"persons living with HIV\"}}, \"height\": 300, \"width\": 265}, {\"mark\": {\"type\": \"bar\", \"size\": 5}, \"encoding\": {\"x\": {\"type\": \"nominal\", \"field\": \"year\", \"title\": null}, \"y\": {\"type\": \"quantitative\", \"field\": \"persons living with HIV\"}}}], \"data\": {\"name\": \"data-323d1ac9ef047d98cd789138585ac407\"}}, {\"layer\": [{\"mark\": {\"type\": \"circle\", \"color\": \"#cf513d\", \"opacity\": 1.0, \"size\": 200}, \"encoding\": {\"x\": {\"type\": \"nominal\", \"field\": \"year\", \"title\": null}, \"y\": {\"type\": \"quantitative\", \"field\": \"new HIV diagnoses\"}}, \"height\": 300, \"width\": 265}, {\"mark\": {\"type\": \"bar\", \"color\": \"#cf513d\", \"size\": 5}, \"encoding\": {\"x\": {\"type\": \"nominal\", \"field\": \"year\", \"title\": null}, \"y\": {\"type\": \"quantitative\", \"field\": \"new HIV diagnoses\"}}}], \"data\": {\"name\": \"data-875e37b662f59fe22f369c3c527847fc\"}}], \"$schema\": \"https://vega.github.io/schema/vega-lite/v4.8.1.json\", \"datasets\": {\"data-323d1ac9ef047d98cd789138585ac407\": [{\"year\": \"2014\", \"persons living with HIV\": 1085100}, {\"year\": \"2015\", \"persons living with HIV\": 1108400}, {\"year\": \"2016\", \"persons living with HIV\": 1131100}, {\"year\": \"2017\", \"persons living with HIV\": 1152400}, {\"year\": \"2018\", \"persons living with HIV\": 1173900}], \"data-875e37b662f59fe22f369c3c527847fc\": [{\"year\": \"2014\", \"new HIV diagnoses\": 40187}, {\"year\": \"2015\", \"new HIV diagnoses\": 39959}, {\"year\": \"2016\", \"new HIV diagnoses\": 39698}, {\"year\": \"2017\", \"new HIV diagnoses\": 38456}, {\"year\": \"2018\", \"new HIV diagnoses\": 37515}]}}, {\"mode\": \"vega-lite\"});\n",
       "</script>"
      ],
      "text/plain": [
       "alt.HConcatChart(...)"
      ]
     },
     "metadata": {},
     "output_type": "display_data"
    }
   ],
   "source": [
    "df1 = pd.DataFrame({'year': ['2014', '2015', '2016', '2017', '2018'], \n",
    "                   'persons living with HIV': [1085100, 1108400, 1131100, 1152400, 1173900]})\n",
    "\n",
    "points = alt.Chart(df1).mark_circle(\n",
    "    opacity = 1.0, size = 200).encode(\n",
    "    x = alt.X('year', title = None),\n",
    "    y = 'persons living with HIV').properties(\n",
    "    width = 265,\n",
    "    height = 300)\n",
    "\n",
    "bars = alt.Chart(df1).mark_bar(size = 5).encode(\n",
    "    x = alt.X('year', title = None),\n",
    "    y = 'persons living with HIV')\n",
    "\n",
    "p1 = (points + bars)\n",
    "\n",
    "df2 = pd.DataFrame({'year': ['2014', '2015', '2016', '2017', '2018'], \n",
    "                    'new HIV diagnoses': [40187, 39959, 39698, 38456, 37515]})\n",
    "\n",
    "points = alt.Chart(df2).mark_circle(\n",
    "    opacity = 1.0, size = 200, color = '#cf513d').encode(\n",
    "    x = alt.X('year', title = None),\n",
    "    y = 'new HIV diagnoses').properties(\n",
    "    width = 265,\n",
    "    height = 300)\n",
    "\n",
    "bars = alt.Chart(df2).mark_bar(size = 5, color = '#cf513d').encode(\n",
    "    x = alt.X('year', title = None),\n",
    "    y = 'new HIV diagnoses')\n",
    "\n",
    "p2 = (points + bars)\n",
    "\n",
    "p12 = (p1 | p2).configure_axis(\n",
    "    labelFontSize = 16,\n",
    "    titleFontSize = 18\n",
    ").configure_axisX(\n",
    "    labelAngle = 0,\n",
    "    tickBand = 'extent'\n",
    ")\n",
    "\n",
    "display(p12)"
   ]
  },
  {
   "cell_type": "markdown",
   "metadata": {
    "slideshow": {
     "slide_type": "subslide"
    }
   },
   "source": [
    "### Most people living with HIV are approaching retirement, and persons of color are disproportionately affected"
   ]
  },
  {
   "cell_type": "code",
   "execution_count": 3,
   "metadata": {
    "hideCode": false,
    "hidePrompt": false,
    "slideshow": {
     "slide_type": "fragment"
    }
   },
   "outputs": [
    {
     "data": {
      "text/html": [
       "\n",
       "<div id=\"altair-viz-b9c8abcded894eb598c60e07ba91b9b8\"></div>\n",
       "<script type=\"text/javascript\">\n",
       "  (function(spec, embedOpt){\n",
       "    let outputDiv = document.currentScript.previousElementSibling;\n",
       "    if (outputDiv.id !== \"altair-viz-b9c8abcded894eb598c60e07ba91b9b8\") {\n",
       "      outputDiv = document.getElementById(\"altair-viz-b9c8abcded894eb598c60e07ba91b9b8\");\n",
       "    }\n",
       "    const paths = {\n",
       "      \"vega\": \"https://cdn.jsdelivr.net/npm//vega@5?noext\",\n",
       "      \"vega-lib\": \"https://cdn.jsdelivr.net/npm//vega-lib?noext\",\n",
       "      \"vega-lite\": \"https://cdn.jsdelivr.net/npm//vega-lite@4.8.1?noext\",\n",
       "      \"vega-embed\": \"https://cdn.jsdelivr.net/npm//vega-embed@6?noext\",\n",
       "    };\n",
       "\n",
       "    function loadScript(lib) {\n",
       "      return new Promise(function(resolve, reject) {\n",
       "        var s = document.createElement('script');\n",
       "        s.src = paths[lib];\n",
       "        s.async = true;\n",
       "        s.onload = () => resolve(paths[lib]);\n",
       "        s.onerror = () => reject(`Error loading script: ${paths[lib]}`);\n",
       "        document.getElementsByTagName(\"head\")[0].appendChild(s);\n",
       "      });\n",
       "    }\n",
       "\n",
       "    function showError(err) {\n",
       "      outputDiv.innerHTML = `<div class=\"error\" style=\"color:red;\">${err}</div>`;\n",
       "      throw err;\n",
       "    }\n",
       "\n",
       "    function displayChart(vegaEmbed) {\n",
       "      vegaEmbed(outputDiv, spec, embedOpt)\n",
       "        .catch(err => showError(`Javascript Error: ${err.message}<br>This usually means there's a typo in your chart specification. See the javascript console for the full traceback.`));\n",
       "    }\n",
       "\n",
       "    if(typeof define === \"function\" && define.amd) {\n",
       "      requirejs.config({paths});\n",
       "      require([\"vega-embed\"], displayChart, err => showError(`Error loading script: ${err.message}`));\n",
       "    } else if (typeof vegaEmbed === \"function\") {\n",
       "      displayChart(vegaEmbed);\n",
       "    } else {\n",
       "      loadScript(\"vega\")\n",
       "        .then(() => loadScript(\"vega-lite\"))\n",
       "        .then(() => loadScript(\"vega-embed\"))\n",
       "        .catch(showError)\n",
       "        .then(() => displayChart(vegaEmbed));\n",
       "    }\n",
       "  })({\"config\": {\"view\": {\"continuousWidth\": 400, \"continuousHeight\": 300}, \"axis\": {\"labelFontSize\": 16, \"titleFontSize\": 18}, \"axisY\": {\"tickBand\": \"extent\"}}, \"vconcat\": [{\"layer\": [{\"mark\": {\"type\": \"circle\", \"opacity\": 1.0, \"size\": 200}, \"encoding\": {\"x\": {\"type\": \"quantitative\", \"field\": \"persons living with HIV\"}, \"y\": {\"type\": \"nominal\", \"field\": \"age group\", \"title\": null}}, \"height\": 200, \"width\": 550}, {\"mark\": {\"type\": \"bar\", \"size\": 5}, \"encoding\": {\"x\": {\"type\": \"quantitative\", \"field\": \"persons living with HIV\"}, \"y\": {\"type\": \"nominal\", \"field\": \"age group\", \"title\": null}}}], \"data\": {\"name\": \"data-5b4f685a2543e58cfcca5e78c4864bd8\"}}, {\"layer\": [{\"mark\": {\"type\": \"circle\", \"color\": \"#cf513d\", \"opacity\": 1.0, \"size\": 200}, \"encoding\": {\"x\": {\"type\": \"quantitative\", \"field\": \"HIV prevalence per 100,000\"}, \"y\": {\"type\": \"nominal\", \"field\": \"race\", \"title\": null}}, \"height\": 200, \"width\": 550}, {\"mark\": {\"type\": \"bar\", \"color\": \"#cf513d\", \"size\": 5}, \"encoding\": {\"x\": {\"type\": \"quantitative\", \"field\": \"HIV prevalence per 100,000\"}, \"y\": {\"type\": \"nominal\", \"field\": \"race\", \"title\": null}}}], \"data\": {\"name\": \"data-7b40a92827c399b42e2c316418659b20\"}}], \"$schema\": \"https://vega.github.io/schema/vega-lite/v4.8.1.json\", \"datasets\": {\"data-5b4f685a2543e58cfcca5e78c4864bd8\": [{\"age group\": \"13-24\", \"persons living with HIV\": 47800}, {\"age group\": \"25-34\", \"persons living with HIV\": 216600}, {\"age group\": \"35-44\", \"persons living with HIV\": 225200}, {\"age group\": \"45-54\", \"persons living with HIV\": 305300}, {\"age group\": \"> 54\", \"persons living with HIV\": 379000}], \"data-7b40a92827c399b42e2c316418659b20\": [{\"race\": \"Black/African American\", \"HIV prevalence per 100,000\": 1434}, {\"race\": \"Multiple Races\", \"HIV prevalence per 100,000\": 1126}, {\"race\": \"Hispanic/Latino\", \"HIV prevalence per 100,000\": 593}, {\"race\": \"Pacific Islander\", \"HIV prevalence per 100,000\": 221}, {\"race\": \"White\", \"HIV prevalence per 100,000\": 199}, {\"race\": \"American Indian/Alaskan Native\", \"HIV prevalence per 100,000\": 196}, {\"race\": \"Asian\", \"HIV prevalence per 100,000\": 109}]}}, {\"mode\": \"vega-lite\"});\n",
       "</script>"
      ],
      "text/plain": [
       "alt.VConcatChart(...)"
      ]
     },
     "metadata": {},
     "output_type": "display_data"
    }
   ],
   "source": [
    "df3 = pd.DataFrame({'age group': ['13-24', '25-34', '35-44', '45-54', '> 54'], \n",
    "                    'persons living with HIV': [47800, 216600, 225200, 305300, 379000]})\n",
    "\n",
    "points = alt.Chart(df3).mark_circle(\n",
    "    opacity = 1.0, size = 200).encode(\n",
    "    y = alt.Y('age group', title = None),\n",
    "    x = 'persons living with HIV').properties(\n",
    "    width = 550,\n",
    "    height = 200)\n",
    "\n",
    "bars = alt.Chart(df3).mark_bar(size = 5).encode(\n",
    "    y = alt.Y('age group', title = None),\n",
    "    x = 'persons living with HIV')\n",
    "\n",
    "p3 = (points + bars)\n",
    "\n",
    "df4 = pd.DataFrame({'race': ['Black/African American', 'Multiple Races', 'Hispanic/Latino', 'Pacific Islander', 'White', 'American Indian/Alaskan Native', 'Asian'], \n",
    "                   'HIV prevalence per 100,000': [1434, 1126, 593, 221, 199, 196, 109]})\n",
    "\n",
    "points = alt.Chart(df4).mark_circle(\n",
    "    opacity = 1.0, size = 200, color = '#cf513d').encode(\n",
    "    y = alt.Y('race', title = None),\n",
    "    x = 'HIV prevalence per 100,000').properties(\n",
    "    width = 550,\n",
    "    height = 200)\n",
    "\n",
    "bars = alt.Chart(df4).mark_bar(size = 5, color = '#cf513d').encode(\n",
    "    y = alt.Y('race', title = None),\n",
    "    x = 'HIV prevalence per 100,000')\n",
    "\n",
    "p4 = (points + bars)\n",
    "\n",
    "p34 = alt.vconcat(p3, p4).configure_axis(\n",
    "    labelFontSize = 16,\n",
    "    titleFontSize = 18\n",
    ").configure_axisY(\n",
    "    tickBand = 'extent'\n",
    ")\n",
    "\n",
    "display(p34)"
   ]
  },
  {
   "cell_type": "markdown",
   "metadata": {
    "hidePrompt": false,
    "slideshow": {
     "slide_type": "subslide"
    }
   },
   "source": [
    "### Motivation for this being a Trifecta talk"
   ]
  },
  {
   "cell_type": "code",
   "execution_count": 4,
   "metadata": {
    "hideCode": false,
    "hidePrompt": false,
    "scrolled": true,
    "slideshow": {
     "slide_type": "fragment"
    }
   },
   "outputs": [
    {
     "data": {
      "text/html": [
       "\n",
       "<div id=\"altair-viz-4bee1bbfd1d940cfa84072902b241989\"></div>\n",
       "<script type=\"text/javascript\">\n",
       "  (function(spec, embedOpt){\n",
       "    let outputDiv = document.currentScript.previousElementSibling;\n",
       "    if (outputDiv.id !== \"altair-viz-4bee1bbfd1d940cfa84072902b241989\") {\n",
       "      outputDiv = document.getElementById(\"altair-viz-4bee1bbfd1d940cfa84072902b241989\");\n",
       "    }\n",
       "    const paths = {\n",
       "      \"vega\": \"https://cdn.jsdelivr.net/npm//vega@5?noext\",\n",
       "      \"vega-lib\": \"https://cdn.jsdelivr.net/npm//vega-lib?noext\",\n",
       "      \"vega-lite\": \"https://cdn.jsdelivr.net/npm//vega-lite@4.8.1?noext\",\n",
       "      \"vega-embed\": \"https://cdn.jsdelivr.net/npm//vega-embed@6?noext\",\n",
       "    };\n",
       "\n",
       "    function loadScript(lib) {\n",
       "      return new Promise(function(resolve, reject) {\n",
       "        var s = document.createElement('script');\n",
       "        s.src = paths[lib];\n",
       "        s.async = true;\n",
       "        s.onload = () => resolve(paths[lib]);\n",
       "        s.onerror = () => reject(`Error loading script: ${paths[lib]}`);\n",
       "        document.getElementsByTagName(\"head\")[0].appendChild(s);\n",
       "      });\n",
       "    }\n",
       "\n",
       "    function showError(err) {\n",
       "      outputDiv.innerHTML = `<div class=\"error\" style=\"color:red;\">${err}</div>`;\n",
       "      throw err;\n",
       "    }\n",
       "\n",
       "    function displayChart(vegaEmbed) {\n",
       "      vegaEmbed(outputDiv, spec, embedOpt)\n",
       "        .catch(err => showError(`Javascript Error: ${err.message}<br>This usually means there's a typo in your chart specification. See the javascript console for the full traceback.`));\n",
       "    }\n",
       "\n",
       "    if(typeof define === \"function\" && define.amd) {\n",
       "      requirejs.config({paths});\n",
       "      require([\"vega-embed\"], displayChart, err => showError(`Error loading script: ${err.message}`));\n",
       "    } else if (typeof vegaEmbed === \"function\") {\n",
       "      displayChart(vegaEmbed);\n",
       "    } else {\n",
       "      loadScript(\"vega\")\n",
       "        .then(() => loadScript(\"vega-lite\"))\n",
       "        .then(() => loadScript(\"vega-embed\"))\n",
       "        .catch(showError)\n",
       "        .then(() => displayChart(vegaEmbed));\n",
       "    }\n",
       "  })({\"config\": {\"view\": {\"continuousWidth\": 400, \"continuousHeight\": 300}, \"axis\": {\"labelFontSize\": 20, \"titleFontSize\": 22}, \"axisX\": {\"labelAngle\": 90, \"tickBand\": \"extent\"}}, \"layer\": [{\"mark\": {\"type\": \"circle\", \"opacity\": 1.0, \"size\": 200}, \"encoding\": {\"x\": {\"type\": \"nominal\", \"field\": \"age group\", \"title\": null}, \"y\": {\"type\": \"quantitative\", \"field\": \"new HIV diagnoses\"}}, \"height\": 400, \"width\": 650}, {\"mark\": {\"type\": \"bar\", \"size\": 5}, \"encoding\": {\"x\": {\"type\": \"nominal\", \"field\": \"age group\", \"title\": null}, \"y\": {\"type\": \"quantitative\", \"field\": \"new HIV diagnoses\"}}}], \"data\": {\"name\": \"data-bda9308ebaecd419f5bd6f6f4787c915\"}, \"$schema\": \"https://vega.github.io/schema/vega-lite/v4.8.1.json\", \"datasets\": {\"data-bda9308ebaecd419f5bd6f6f4787c915\": [{\"age group\": \"0-13\", \"new HIV diagnoses\": 87}, {\"age group\": \"13-14\", \"new HIV diagnoses\": 20}, {\"age group\": \"15-19\", \"new HIV diagnoses\": 1704}, {\"age group\": \"20-24\", \"new HIV diagnoses\": 6093}, {\"age group\": \"25-29\", \"new HIV diagnoses\": 7690}, {\"age group\": \"30-34\", \"new HIV diagnoses\": 5665}, {\"age group\": \"35-39\", \"new HIV diagnoses\": 4215}, {\"age group\": \"40-44\", \"new HIV diagnoses\": 2981}, {\"age group\": \"45-49\", \"new HIV diagnoses\": 2818}, {\"age group\": \"50-54\", \"new HIV diagnoses\": 2476}, {\"age group\": \"55-59\", \"new HIV diagnoses\": 1849}, {\"age group\": \"60-64\", \"new HIV diagnoses\": 1039}, {\"age group\": \"> 64\", \"new HIV diagnoses\": 878}]}}, {\"mode\": \"vega-lite\"});\n",
       "</script>"
      ],
      "text/plain": [
       "alt.LayerChart(...)"
      ]
     },
     "metadata": {},
     "output_type": "display_data"
    }
   ],
   "source": [
    "df5 = pd.DataFrame({'age group': ['0-13', '13-14', '15-19', '20-24', '25-29', '30-34', '35-39',\n",
    "                                  '40-44', '45-49', '50-54', '55-59', '60-64', '> 64'], \n",
    "                    'new HIV diagnoses': [87, 20, 1704, 6093, 7690, 5665, 4215, 2981, 2818,\n",
    "                                          2476, 1849, 1039, 878]})\n",
    "\n",
    "points = alt.Chart(df5).mark_circle(\n",
    "    opacity = 1.0, size = 200).encode(\n",
    "    x = alt.X('age group', title = None),\n",
    "    y = 'new HIV diagnoses').properties(\n",
    "    width = 650,\n",
    "    height = 400)\n",
    "\n",
    "bars = alt.Chart(df5).mark_bar(size = 5).encode(\n",
    "    x = alt.X('age group', title = None),\n",
    "    y = 'new HIV diagnoses')\n",
    "\n",
    "p5 = (points + bars)\n",
    "\n",
    "p5 = p5.configure_axis(\n",
    "    labelFontSize = 20,\n",
    "    titleFontSize = 22\n",
    ").configure_axisX(\n",
    "    labelAngle = 90,\n",
    "    tickBand = 'extent'\n",
    ")\n",
    "\n",
    "display(p5)"
   ]
  },
  {
   "cell_type": "markdown",
   "metadata": {
    "slideshow": {
     "slide_type": "slide"
    }
   },
   "source": [
    "## Perinatal infections"
   ]
  },
  {
   "cell_type": "markdown",
   "metadata": {
    "slideshow": {
     "slide_type": "subslide"
    }
   },
   "source": [
    "### Relatively simple, but virtually always managed by a specialist\n",
    "\n",
    "- Low risk neonates\n",
    "    - Receive 4 weeks of zidovudine\n",
    "    - Test at ***\n",
    "    - Otherwise normal newborn care\n",
    "- High risk neonates\n",
    "    - Received ***\n",
    "    - Test at ***\n",
    "    - Otherwise normal newborn care"
   ]
  },
  {
   "cell_type": "markdown",
   "metadata": {
    "slideshow": {
     "slide_type": "slide"
    }
   },
   "source": [
    "## Cases in Adolescence"
   ]
  },
  {
   "cell_type": "markdown",
   "metadata": {
    "slideshow": {
     "slide_type": "subslide"
    }
   },
   "source": [
    "### Pre-infection\n",
    "\n",
    "- Imagine two cases:\n",
    "    1. 16yoF with history of several STIs is presenting for concern for vaginal discharge, itching and abdominal pain. She has been sexually active with 3 girls and 4 boys. She engages in receptive vaginal sex and infrequently uses barrier protection. She knows all of her male partners well and they all only engage in sex with women and none of them use IV drugs. Her STIs include multiple instances with chlamydia. She has also had trichomonas and ocassionally has gential HSV outbreaks.\n",
    "    2. 18yoM with no significant medical history who is presenting for routine health maintenance. He is in a 2-year long monogamous relationship with his husband. They were tested for HIV prior to having sex and both were negative. As a result, they never use barrier protection during receptive and insertive oral and anal sex.\n",
    "- Who needs PrEP per USPSTF guidelines?"
   ]
  },
  {
   "cell_type": "markdown",
   "metadata": {
    "slideshow": {
     "slide_type": "subslide"
    }
   },
   "source": [
    "### USPSTF Guidance\n",
    "\n",
    "1. Men who have sex with men, are sexually active, and have 1 of the following characteristics:\n",
    "    - A serodiscordant sex partner (ie, in a sexual relationship with a partner living with HIV)\n",
    "    - Inconsistent use of condoms during receptive or insertive anal sex\n",
    "    - A sexually transmitted infection (STI) with syphilis, gonorrhea, or chlamydia within the past 6 months\n",
    "2. Heterosexually active women and men who have 1 of the following characteristics:\n",
    "    - A serodiscordant sex partner (ie, in a sexual relationship with a partner living with HIV)\n",
    "    - Inconsistent use of condoms during sex with a partner whose HIV status is unknown and who is at high risk (eg, a person who injects drugs or a man who has sex with men and women)\n",
    "    - An STI with syphilis or gonorrhea within the past 6 months\n",
    "3. Persons who inject drugs and have 1 of the following characteristics:\n",
    "    - Shared use of drug injection equipment\n",
    "    - Risk of sexual acquisition of HIV (see above)"
   ]
  },
  {
   "cell_type": "markdown",
   "metadata": {
    "slideshow": {
     "slide_type": "subslide"
    }
   },
   "source": [
    "### CDC Guidance\n",
    "\n",
    "1. Sexually active adolescents and adults\n",
    "    - Anal or vaginal sex in the past 6 months; __and__\n",
    "    - HIV-positive sexual partner (especially if partner has unknown or detectable viral load); __or__\n",
    "    - Recent bacterial STI; __or__\n",
    "    - History of inconsistent or no condom use with sexual partner(s)\n",
    "2. Person who inject drugs\n",
    "    - HIV-positive injecting partner; __or__\n",
    "    - Shares drug preparation or injection equipment"
   ]
  },
  {
   "cell_type": "markdown",
   "metadata": {
    "slideshow": {
     "slide_type": "subslide"
    }
   },
   "source": [
    "#### I tend to use the CDC Guidance, but it is _extremely_ broad"
   ]
  },
  {
   "cell_type": "markdown",
   "metadata": {
    "slideshow": {
     "slide_type": "subslide"
    }
   },
   "source": [
    "### What do you need to order before starting PrEP?"
   ]
  },
  {
   "cell_type": "markdown",
   "metadata": {
    "slideshow": {
     "slide_type": "subslide"
    }
   },
   "source": [
    "### Post-infection"
   ]
  },
  {
   "cell_type": "code",
   "execution_count": null,
   "metadata": {},
   "outputs": [],
   "source": []
  }
 ],
 "metadata": {
  "celltoolbar": "Slideshow",
  "hide_input": false,
  "kernelspec": {
   "display_name": "Python 3",
   "language": "python",
   "name": "python3"
  },
  "language_info": {
   "codemirror_mode": {
    "name": "ipython",
    "version": 3
   },
   "file_extension": ".py",
   "mimetype": "text/x-python",
   "name": "python",
   "nbconvert_exporter": "python",
   "pygments_lexer": "ipython3",
   "version": "3.8.5"
  },
  "rise": {
   "center": "true",
   "enable_chalkboard": true,
   "height": "90%",
   "progress": "true",
   "start_slideshow_at": "beginning",
   "width": "90%"
  }
 },
 "nbformat": 4,
 "nbformat_minor": 4
}
