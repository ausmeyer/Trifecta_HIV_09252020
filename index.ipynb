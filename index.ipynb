{
 "cells": [
  {
   "cell_type": "code",
   "execution_count": 1,
   "metadata": {
    "hideCode": false,
    "hidePrompt": false,
    "slideshow": {
     "slide_type": "notes"
    }
   },
   "outputs": [],
   "source": [
    "import pandas as pd\n",
    "import altair as alt"
   ]
  },
  {
   "cell_type": "code",
   "execution_count": 2,
   "metadata": {
    "slideshow": {
     "slide_type": "notes"
    }
   },
   "outputs": [
    {
     "data": {
      "application/javascript": [
       "IPython.OutputArea.prototype._should_scroll = function(lines) {\n",
       "    return false;\n",
       "}\n"
      ],
      "text/plain": [
       "<IPython.core.display.Javascript object>"
      ]
     },
     "metadata": {},
     "output_type": "display_data"
    }
   ],
   "source": [
    "%%javascript\n",
    "IPython.OutputArea.prototype._should_scroll = function(lines) {\n",
    "    return false;\n",
    "}"
   ]
  },
  {
   "cell_type": "markdown",
   "metadata": {
    "cell_style": "center",
    "hideCode": false,
    "hidePrompt": false,
    "slideshow": {
     "slide_type": "slide"
    }
   },
   "source": [
    "# Trifecta Lecture Series: HIV\n",
    "\n",
    "### Austin G. Meyer, xyz\n",
    "\n",
    "<br>\n",
    "<br>\n",
    "\n",
    "<img src=\"figs/OSU-WexMedCtr-4C-StackedK-CMYK.jpg\" width=\"230\" align=\"left\"/>\n",
    "<img src=\"figs/Nationwide_childrens_2011.jpg\" width=\"500\" align=\"right\"/>"
   ]
  },
  {
   "cell_type": "markdown",
   "metadata": {
    "slideshow": {
     "slide_type": "slide"
    }
   },
   "source": [
    "## Overview\n",
    "\n",
    "- Resources (most important thing)\n",
    "- Preliminary things to know\n",
    "- Basic Perinatal Care\n",
    "- Cases in Adolescence \n",
    "    - High Risk of Infection\n",
    "    - After Infection"
   ]
  },
  {
   "cell_type": "markdown",
   "metadata": {
    "slideshow": {
     "slide_type": "slide"
    }
   },
   "source": [
    "## Resources"
   ]
  },
  {
   "cell_type": "markdown",
   "metadata": {
    "slideshow": {
     "slide_type": "subslide"
    }
   },
   "source": [
    "### National HIV Curriculum - University of Washington"
   ]
  },
  {
   "cell_type": "markdown",
   "metadata": {},
   "source": [
    "<center>\n",
    "<img src=\"figs/UWashington_HIV.png\" width=\"650\"/>\n",
    "</center>"
   ]
  },
  {
   "cell_type": "markdown",
   "metadata": {
    "slideshow": {
     "slide_type": "subslide"
    }
   },
   "source": [
    "### Clinical Info HIV (formerly Aids Info)"
   ]
  },
  {
   "cell_type": "markdown",
   "metadata": {},
   "source": [
    "<center>\n",
    "<img src=\"figs/AidsInfo.png\" width=\"700\"/>\n",
    "</center>"
   ]
  },
  {
   "cell_type": "markdown",
   "metadata": {
    "slideshow": {
     "slide_type": "subslide"
    }
   },
   "source": [
    "### American Academy of HIV Medicine"
   ]
  },
  {
   "cell_type": "markdown",
   "metadata": {},
   "source": [
    "<center>\n",
    "<img src=\"figs/aahivm.png\" width=\"700\"/>\n",
    "</center>"
   ]
  },
  {
   "cell_type": "markdown",
   "metadata": {
    "slideshow": {
     "slide_type": "slide"
    }
   },
   "source": [
    "## Preliminary things to know"
   ]
  },
  {
   "cell_type": "markdown",
   "metadata": {
    "slideshow": {
     "slide_type": "subslide"
    }
   },
   "source": [
    "### A couple of things I find interesting (sorry)\n",
    "\n",
    "HIV-1 probably emerged around 1910 in Cameroon before spreading to Kinshasa\n",
    "<br>\n",
    "<center>\n",
    "<img src=\"figs/F1.large.jpg\" width=\"800\"/>\n",
    "</center>"
   ]
  },
  {
   "cell_type": "markdown",
   "metadata": {
    "slideshow": {
     "slide_type": "subslide"
    }
   },
   "source": [
    "After reaching Kinshasa, the virus spread across Central Africa and to the coast for 40 years before exploding across the globe\n",
    "<br>\n",
    "<center>\n",
    "<img src=\"figs/F2.large.jpg\" width=\"600\"/>\n",
    "</center>"
   ]
  },
  {
   "cell_type": "markdown",
   "metadata": {
    "slideshow": {
     "slide_type": "subslide"
    }
   },
   "source": [
    "### The Chimp and the River is short and sweet\n",
    "<br>\n",
    "<center>\n",
    "<img src=\"figs/chimp_river.jpg\" width=\"300\"/>\n",
    "</center>"
   ]
  },
  {
   "cell_type": "markdown",
   "metadata": {
    "slideshow": {
     "slide_type": "subslide"
    }
   },
   "source": [
    "### The Origins of AIDS is more extensive but also good\n",
    "<br>\n",
    "<center>\n",
    "<img src=\"figs/origins_aids.jpg\" width=\"300\"/>\n",
    "</center>"
   ]
  },
  {
   "cell_type": "markdown",
   "metadata": {
    "slideshow": {
     "slide_type": "subslide"
    }
   },
   "source": [
    "### Epidemiology in United States"
   ]
  },
  {
   "cell_type": "markdown",
   "metadata": {
    "slideshow": {
     "slide_type": "subslide"
    }
   },
   "source": [
    "### Number of new diagnoses is declining"
   ]
  },
  {
   "cell_type": "code",
   "execution_count": 3,
   "metadata": {
    "hideCode": false,
    "hidePrompt": false,
    "slideshow": {
     "slide_type": "fragment"
    }
   },
   "outputs": [
    {
     "data": {
      "text/html": [
       "\n",
       "<div id=\"altair-viz-c1844bcaa7884a969d15974f5d19b2d7\"></div>\n",
       "<script type=\"text/javascript\">\n",
       "  (function(spec, embedOpt){\n",
       "    let outputDiv = document.currentScript.previousElementSibling;\n",
       "    if (outputDiv.id !== \"altair-viz-c1844bcaa7884a969d15974f5d19b2d7\") {\n",
       "      outputDiv = document.getElementById(\"altair-viz-c1844bcaa7884a969d15974f5d19b2d7\");\n",
       "    }\n",
       "    const paths = {\n",
       "      \"vega\": \"https://cdn.jsdelivr.net/npm//vega@5?noext\",\n",
       "      \"vega-lib\": \"https://cdn.jsdelivr.net/npm//vega-lib?noext\",\n",
       "      \"vega-lite\": \"https://cdn.jsdelivr.net/npm//vega-lite@4.8.1?noext\",\n",
       "      \"vega-embed\": \"https://cdn.jsdelivr.net/npm//vega-embed@6?noext\",\n",
       "    };\n",
       "\n",
       "    function loadScript(lib) {\n",
       "      return new Promise(function(resolve, reject) {\n",
       "        var s = document.createElement('script');\n",
       "        s.src = paths[lib];\n",
       "        s.async = true;\n",
       "        s.onload = () => resolve(paths[lib]);\n",
       "        s.onerror = () => reject(`Error loading script: ${paths[lib]}`);\n",
       "        document.getElementsByTagName(\"head\")[0].appendChild(s);\n",
       "      });\n",
       "    }\n",
       "\n",
       "    function showError(err) {\n",
       "      outputDiv.innerHTML = `<div class=\"error\" style=\"color:red;\">${err}</div>`;\n",
       "      throw err;\n",
       "    }\n",
       "\n",
       "    function displayChart(vegaEmbed) {\n",
       "      vegaEmbed(outputDiv, spec, embedOpt)\n",
       "        .catch(err => showError(`Javascript Error: ${err.message}<br>This usually means there's a typo in your chart specification. See the javascript console for the full traceback.`));\n",
       "    }\n",
       "\n",
       "    if(typeof define === \"function\" && define.amd) {\n",
       "      requirejs.config({paths});\n",
       "      require([\"vega-embed\"], displayChart, err => showError(`Error loading script: ${err.message}`));\n",
       "    } else if (typeof vegaEmbed === \"function\") {\n",
       "      displayChart(vegaEmbed);\n",
       "    } else {\n",
       "      loadScript(\"vega\")\n",
       "        .then(() => loadScript(\"vega-lite\"))\n",
       "        .then(() => loadScript(\"vega-embed\"))\n",
       "        .catch(showError)\n",
       "        .then(() => displayChart(vegaEmbed));\n",
       "    }\n",
       "  })({\"config\": {\"view\": {\"continuousWidth\": 400, \"continuousHeight\": 300}, \"axis\": {\"labelFontSize\": 16, \"titleFontSize\": 18}, \"axisX\": {\"labelAngle\": 90, \"tickBand\": \"extent\"}}, \"hconcat\": [{\"layer\": [{\"mark\": {\"type\": \"circle\", \"opacity\": 1.0, \"size\": 150}, \"encoding\": {\"x\": {\"type\": \"nominal\", \"field\": \"year\", \"title\": null}, \"y\": {\"type\": \"quantitative\", \"field\": \"persons living with HIV\"}}}, {\"mark\": {\"type\": \"line\", \"opacity\": 1.0, \"size\": 3}, \"encoding\": {\"x\": {\"type\": \"nominal\", \"field\": \"year\", \"title\": null}, \"y\": {\"type\": \"quantitative\", \"field\": \"persons living with HIV\"}}}], \"data\": {\"name\": \"data-323d1ac9ef047d98cd789138585ac407\"}, \"height\": 250, \"width\": 250}, {\"layer\": [{\"mark\": {\"type\": \"circle\", \"color\": \"#cf513d\", \"opacity\": 1.0, \"size\": 150}, \"encoding\": {\"x\": {\"type\": \"nominal\", \"field\": \"year\", \"title\": null}, \"y\": {\"type\": \"quantitative\", \"field\": \"new HIV diagnoses\"}}}, {\"mark\": {\"type\": \"line\", \"color\": \"#cf513d\", \"opacity\": 1.0, \"size\": 3}, \"encoding\": {\"x\": {\"type\": \"nominal\", \"field\": \"year\", \"title\": null}, \"y\": {\"type\": \"quantitative\", \"field\": \"new HIV diagnoses\"}}}], \"data\": {\"name\": \"data-875e37b662f59fe22f369c3c527847fc\"}, \"height\": 250, \"width\": 250}], \"$schema\": \"https://vega.github.io/schema/vega-lite/v4.8.1.json\", \"datasets\": {\"data-323d1ac9ef047d98cd789138585ac407\": [{\"year\": \"2014\", \"persons living with HIV\": 1085100}, {\"year\": \"2015\", \"persons living with HIV\": 1108400}, {\"year\": \"2016\", \"persons living with HIV\": 1131100}, {\"year\": \"2017\", \"persons living with HIV\": 1152400}, {\"year\": \"2018\", \"persons living with HIV\": 1173900}], \"data-875e37b662f59fe22f369c3c527847fc\": [{\"year\": \"2014\", \"new HIV diagnoses\": 40187}, {\"year\": \"2015\", \"new HIV diagnoses\": 39959}, {\"year\": \"2016\", \"new HIV diagnoses\": 39698}, {\"year\": \"2017\", \"new HIV diagnoses\": 38456}, {\"year\": \"2018\", \"new HIV diagnoses\": 37515}]}}, {\"mode\": \"vega-lite\"});\n",
       "</script>"
      ],
      "text/plain": [
       "alt.HConcatChart(...)"
      ]
     },
     "metadata": {},
     "output_type": "display_data"
    }
   ],
   "source": [
    "df1 = pd.DataFrame({'year': ['2014', '2015', '2016', '2017', '2018'], \n",
    "                   'persons living with HIV': [1085100, 1108400, 1131100, 1152400, 1173900]})\n",
    "\n",
    "points = alt.Chart(df1).mark_circle(\n",
    "    opacity = 1.0, size = 150).encode(\n",
    "    x = alt.X('year', title = None),\n",
    "    y = 'persons living with HIV')\n",
    "\n",
    "line = alt.Chart(df1).mark_line(\n",
    "    opacity = 1.0, size = 3).encode(\n",
    "    x = alt.X('year', title = None),\n",
    "    y = 'persons living with HIV')\n",
    "\n",
    "p1 = (points + line).properties(\n",
    "    width = 250,\n",
    "    height = 250)\n",
    "\n",
    "df2 = pd.DataFrame({'year': ['2014', '2015', '2016', '2017', '2018'], \n",
    "                    'new HIV diagnoses': [40187, 39959, 39698, 38456, 37515]})\n",
    "\n",
    "points = alt.Chart(df2).mark_circle(\n",
    "    opacity = 1.0, size = 150, color = '#cf513d').encode(\n",
    "    x = alt.X('year', title = None),\n",
    "    y = 'new HIV diagnoses')\n",
    "\n",
    "line = alt.Chart(df2).mark_line(\n",
    "    opacity = 1.0, size = 3, color = '#cf513d').encode(\n",
    "    x = alt.X('year', title = None),\n",
    "    y = 'new HIV diagnoses')\n",
    "\n",
    "p2 = (points + line).properties(\n",
    "    width = 250,\n",
    "    height = 250)\n",
    "\n",
    "p12 = (p1 | p2).configure_axis(\n",
    "    labelFontSize = 16,\n",
    "    titleFontSize = 18\n",
    ").configure_axisX(\n",
    "    labelAngle = 90,\n",
    "    tickBand = 'extent'\n",
    ")\n",
    "\n",
    "display(p12)"
   ]
  },
  {
   "cell_type": "markdown",
   "metadata": {
    "slideshow": {
     "slide_type": "subslide"
    }
   },
   "source": [
    "### Most people living with HIV are approaching retirement, and persons of color are disproportionately affected"
   ]
  },
  {
   "cell_type": "code",
   "execution_count": 4,
   "metadata": {
    "hideCode": false,
    "hidePrompt": false,
    "slideshow": {
     "slide_type": "fragment"
    }
   },
   "outputs": [
    {
     "data": {
      "text/html": [
       "\n",
       "<div id=\"altair-viz-9715068cd164414baaf08284e22be5ef\"></div>\n",
       "<script type=\"text/javascript\">\n",
       "  (function(spec, embedOpt){\n",
       "    let outputDiv = document.currentScript.previousElementSibling;\n",
       "    if (outputDiv.id !== \"altair-viz-9715068cd164414baaf08284e22be5ef\") {\n",
       "      outputDiv = document.getElementById(\"altair-viz-9715068cd164414baaf08284e22be5ef\");\n",
       "    }\n",
       "    const paths = {\n",
       "      \"vega\": \"https://cdn.jsdelivr.net/npm//vega@5?noext\",\n",
       "      \"vega-lib\": \"https://cdn.jsdelivr.net/npm//vega-lib?noext\",\n",
       "      \"vega-lite\": \"https://cdn.jsdelivr.net/npm//vega-lite@4.8.1?noext\",\n",
       "      \"vega-embed\": \"https://cdn.jsdelivr.net/npm//vega-embed@6?noext\",\n",
       "    };\n",
       "\n",
       "    function loadScript(lib) {\n",
       "      return new Promise(function(resolve, reject) {\n",
       "        var s = document.createElement('script');\n",
       "        s.src = paths[lib];\n",
       "        s.async = true;\n",
       "        s.onload = () => resolve(paths[lib]);\n",
       "        s.onerror = () => reject(`Error loading script: ${paths[lib]}`);\n",
       "        document.getElementsByTagName(\"head\")[0].appendChild(s);\n",
       "      });\n",
       "    }\n",
       "\n",
       "    function showError(err) {\n",
       "      outputDiv.innerHTML = `<div class=\"error\" style=\"color:red;\">${err}</div>`;\n",
       "      throw err;\n",
       "    }\n",
       "\n",
       "    function displayChart(vegaEmbed) {\n",
       "      vegaEmbed(outputDiv, spec, embedOpt)\n",
       "        .catch(err => showError(`Javascript Error: ${err.message}<br>This usually means there's a typo in your chart specification. See the javascript console for the full traceback.`));\n",
       "    }\n",
       "\n",
       "    if(typeof define === \"function\" && define.amd) {\n",
       "      requirejs.config({paths});\n",
       "      require([\"vega-embed\"], displayChart, err => showError(`Error loading script: ${err.message}`));\n",
       "    } else if (typeof vegaEmbed === \"function\") {\n",
       "      displayChart(vegaEmbed);\n",
       "    } else {\n",
       "      loadScript(\"vega\")\n",
       "        .then(() => loadScript(\"vega-lite\"))\n",
       "        .then(() => loadScript(\"vega-embed\"))\n",
       "        .catch(showError)\n",
       "        .then(() => displayChart(vegaEmbed));\n",
       "    }\n",
       "  })({\"config\": {\"view\": {\"continuousWidth\": 400, \"continuousHeight\": 300}, \"axis\": {\"labelFontSize\": 20, \"titleFontSize\": 22}, \"axisY\": {\"tickBand\": \"extent\"}}, \"vconcat\": [{\"layer\": [{\"mark\": {\"type\": \"circle\", \"opacity\": 1.0, \"size\": 200}, \"encoding\": {\"x\": {\"type\": \"quantitative\", \"field\": \"persons living with HIV\"}, \"y\": {\"type\": \"nominal\", \"field\": \"age group\", \"title\": null}}, \"height\": 200, \"width\": 550}, {\"mark\": {\"type\": \"bar\", \"size\": 4}, \"encoding\": {\"x\": {\"type\": \"quantitative\", \"field\": \"persons living with HIV\"}, \"y\": {\"type\": \"nominal\", \"field\": \"age group\", \"title\": null}}}], \"data\": {\"name\": \"data-5b4f685a2543e58cfcca5e78c4864bd8\"}}, {\"layer\": [{\"mark\": {\"type\": \"circle\", \"color\": \"#cf513d\", \"opacity\": 1.0, \"size\": 200}, \"encoding\": {\"x\": {\"type\": \"quantitative\", \"field\": \"HIV prevalence per 100,000\"}, \"y\": {\"type\": \"nominal\", \"field\": \"race\", \"title\": null}}, \"height\": 200, \"width\": 550}, {\"mark\": {\"type\": \"bar\", \"color\": \"#cf513d\", \"size\": 4}, \"encoding\": {\"x\": {\"type\": \"quantitative\", \"field\": \"HIV prevalence per 100,000\"}, \"y\": {\"type\": \"nominal\", \"field\": \"race\", \"title\": null}}}], \"data\": {\"name\": \"data-7b40a92827c399b42e2c316418659b20\"}}], \"$schema\": \"https://vega.github.io/schema/vega-lite/v4.8.1.json\", \"datasets\": {\"data-5b4f685a2543e58cfcca5e78c4864bd8\": [{\"age group\": \"13-24\", \"persons living with HIV\": 47800}, {\"age group\": \"25-34\", \"persons living with HIV\": 216600}, {\"age group\": \"35-44\", \"persons living with HIV\": 225200}, {\"age group\": \"45-54\", \"persons living with HIV\": 305300}, {\"age group\": \"> 54\", \"persons living with HIV\": 379000}], \"data-7b40a92827c399b42e2c316418659b20\": [{\"race\": \"Black/African American\", \"HIV prevalence per 100,000\": 1434}, {\"race\": \"Multiple Races\", \"HIV prevalence per 100,000\": 1126}, {\"race\": \"Hispanic/Latino\", \"HIV prevalence per 100,000\": 593}, {\"race\": \"Pacific Islander\", \"HIV prevalence per 100,000\": 221}, {\"race\": \"White\", \"HIV prevalence per 100,000\": 199}, {\"race\": \"American Indian/Alaskan Native\", \"HIV prevalence per 100,000\": 196}, {\"race\": \"Asian\", \"HIV prevalence per 100,000\": 109}]}}, {\"mode\": \"vega-lite\"});\n",
       "</script>"
      ],
      "text/plain": [
       "alt.VConcatChart(...)"
      ]
     },
     "metadata": {},
     "output_type": "display_data"
    }
   ],
   "source": [
    "df3 = pd.DataFrame({'age group': ['13-24', '25-34', '35-44', '45-54', '> 54'], \n",
    "                    'persons living with HIV': [47800, 216600, 225200, 305300, 379000]})\n",
    "\n",
    "points = alt.Chart(df3).mark_circle(\n",
    "    opacity = 1.0, size = 200).encode(\n",
    "    y = alt.Y('age group', title = None),\n",
    "    x = 'persons living with HIV').properties(\n",
    "    width = 550,\n",
    "    height = 200)\n",
    "\n",
    "bars = alt.Chart(df3).mark_bar(size = 4).encode(\n",
    "    y = alt.Y('age group', title = None),\n",
    "    x = 'persons living with HIV')\n",
    "\n",
    "p3 = (points + bars)\n",
    "\n",
    "df4 = pd.DataFrame({'race': ['Black/African American', 'Multiple Races', 'Hispanic/Latino', 'Pacific Islander', 'White', 'American Indian/Alaskan Native', 'Asian'], \n",
    "                   'HIV prevalence per 100,000': [1434, 1126, 593, 221, 199, 196, 109]})\n",
    "\n",
    "points = alt.Chart(df4).mark_circle(\n",
    "    opacity = 1.0, size = 200, color = '#cf513d').encode(\n",
    "    y = alt.Y('race', title = None),\n",
    "    x = 'HIV prevalence per 100,000').properties(\n",
    "    width = 550,\n",
    "    height = 200)\n",
    "\n",
    "bars = alt.Chart(df4).mark_bar(size = 4, color = '#cf513d').encode(\n",
    "    y = alt.Y('race', title = None),\n",
    "    x = 'HIV prevalence per 100,000')\n",
    "\n",
    "p4 = (points + bars)\n",
    "\n",
    "p34 = alt.vconcat(p3, p4).configure_axis(\n",
    "    labelFontSize = 20,\n",
    "    titleFontSize = 22\n",
    ").configure_axisY(\n",
    "    tickBand = 'extent'\n",
    ")\n",
    "\n",
    "display(p34)"
   ]
  },
  {
   "cell_type": "markdown",
   "metadata": {
    "hidePrompt": false,
    "slideshow": {
     "slide_type": "subslide"
    }
   },
   "source": [
    "### Motivation for this being a Trifecta talk"
   ]
  },
  {
   "cell_type": "code",
   "execution_count": 5,
   "metadata": {
    "hideCode": false,
    "hidePrompt": false,
    "scrolled": true,
    "slideshow": {
     "slide_type": "-"
    }
   },
   "outputs": [
    {
     "data": {
      "text/html": [
       "\n",
       "<div id=\"altair-viz-2bbd48aa7bd94cfb8452ad819dfe1bed\"></div>\n",
       "<script type=\"text/javascript\">\n",
       "  (function(spec, embedOpt){\n",
       "    let outputDiv = document.currentScript.previousElementSibling;\n",
       "    if (outputDiv.id !== \"altair-viz-2bbd48aa7bd94cfb8452ad819dfe1bed\") {\n",
       "      outputDiv = document.getElementById(\"altair-viz-2bbd48aa7bd94cfb8452ad819dfe1bed\");\n",
       "    }\n",
       "    const paths = {\n",
       "      \"vega\": \"https://cdn.jsdelivr.net/npm//vega@5?noext\",\n",
       "      \"vega-lib\": \"https://cdn.jsdelivr.net/npm//vega-lib?noext\",\n",
       "      \"vega-lite\": \"https://cdn.jsdelivr.net/npm//vega-lite@4.8.1?noext\",\n",
       "      \"vega-embed\": \"https://cdn.jsdelivr.net/npm//vega-embed@6?noext\",\n",
       "    };\n",
       "\n",
       "    function loadScript(lib) {\n",
       "      return new Promise(function(resolve, reject) {\n",
       "        var s = document.createElement('script');\n",
       "        s.src = paths[lib];\n",
       "        s.async = true;\n",
       "        s.onload = () => resolve(paths[lib]);\n",
       "        s.onerror = () => reject(`Error loading script: ${paths[lib]}`);\n",
       "        document.getElementsByTagName(\"head\")[0].appendChild(s);\n",
       "      });\n",
       "    }\n",
       "\n",
       "    function showError(err) {\n",
       "      outputDiv.innerHTML = `<div class=\"error\" style=\"color:red;\">${err}</div>`;\n",
       "      throw err;\n",
       "    }\n",
       "\n",
       "    function displayChart(vegaEmbed) {\n",
       "      vegaEmbed(outputDiv, spec, embedOpt)\n",
       "        .catch(err => showError(`Javascript Error: ${err.message}<br>This usually means there's a typo in your chart specification. See the javascript console for the full traceback.`));\n",
       "    }\n",
       "\n",
       "    if(typeof define === \"function\" && define.amd) {\n",
       "      requirejs.config({paths});\n",
       "      require([\"vega-embed\"], displayChart, err => showError(`Error loading script: ${err.message}`));\n",
       "    } else if (typeof vegaEmbed === \"function\") {\n",
       "      displayChart(vegaEmbed);\n",
       "    } else {\n",
       "      loadScript(\"vega\")\n",
       "        .then(() => loadScript(\"vega-lite\"))\n",
       "        .then(() => loadScript(\"vega-embed\"))\n",
       "        .catch(showError)\n",
       "        .then(() => displayChart(vegaEmbed));\n",
       "    }\n",
       "  })({\"config\": {\"view\": {\"continuousWidth\": 400, \"continuousHeight\": 300}, \"axis\": {\"labelFontSize\": 20, \"titleFontSize\": 22}, \"axisX\": {\"labelAngle\": 90, \"tickBand\": \"extent\"}}, \"layer\": [{\"mark\": {\"type\": \"circle\", \"opacity\": 1.0, \"size\": 200}, \"encoding\": {\"x\": {\"type\": \"nominal\", \"field\": \"age group\", \"title\": null}, \"y\": {\"type\": \"quantitative\", \"field\": \"new HIV diagnoses\"}}, \"height\": 400, \"width\": 650}, {\"mark\": {\"type\": \"bar\", \"size\": 4}, \"encoding\": {\"x\": {\"type\": \"nominal\", \"field\": \"age group\", \"title\": null}, \"y\": {\"type\": \"quantitative\", \"field\": \"new HIV diagnoses\"}}}], \"data\": {\"name\": \"data-bda9308ebaecd419f5bd6f6f4787c915\"}, \"$schema\": \"https://vega.github.io/schema/vega-lite/v4.8.1.json\", \"datasets\": {\"data-bda9308ebaecd419f5bd6f6f4787c915\": [{\"age group\": \"0-13\", \"new HIV diagnoses\": 87}, {\"age group\": \"13-14\", \"new HIV diagnoses\": 20}, {\"age group\": \"15-19\", \"new HIV diagnoses\": 1704}, {\"age group\": \"20-24\", \"new HIV diagnoses\": 6093}, {\"age group\": \"25-29\", \"new HIV diagnoses\": 7690}, {\"age group\": \"30-34\", \"new HIV diagnoses\": 5665}, {\"age group\": \"35-39\", \"new HIV diagnoses\": 4215}, {\"age group\": \"40-44\", \"new HIV diagnoses\": 2981}, {\"age group\": \"45-49\", \"new HIV diagnoses\": 2818}, {\"age group\": \"50-54\", \"new HIV diagnoses\": 2476}, {\"age group\": \"55-59\", \"new HIV diagnoses\": 1849}, {\"age group\": \"60-64\", \"new HIV diagnoses\": 1039}, {\"age group\": \"> 64\", \"new HIV diagnoses\": 878}]}}, {\"mode\": \"vega-lite\"});\n",
       "</script>"
      ],
      "text/plain": [
       "alt.LayerChart(...)"
      ]
     },
     "metadata": {},
     "output_type": "display_data"
    }
   ],
   "source": [
    "df5 = pd.DataFrame({'age group': ['0-13', '13-14', '15-19', '20-24', '25-29', '30-34', '35-39',\n",
    "                                  '40-44', '45-49', '50-54', '55-59', '60-64', '> 64'], \n",
    "                    'new HIV diagnoses': [87, 20, 1704, 6093, 7690, 5665, 4215, 2981, 2818,\n",
    "                                          2476, 1849, 1039, 878]})\n",
    "\n",
    "points = alt.Chart(df5).mark_circle(\n",
    "    opacity = 1.0, size = 200).encode(\n",
    "    x = alt.X('age group', title = None),\n",
    "    y = 'new HIV diagnoses').properties(\n",
    "    width = 650,\n",
    "    height = 400)\n",
    "\n",
    "bars = alt.Chart(df5).mark_bar(size = 4).encode(\n",
    "    x = alt.X('age group', title = None),\n",
    "    y = 'new HIV diagnoses')\n",
    "\n",
    "p5 = (points + bars)\n",
    "\n",
    "p5 = p5.configure_axis(\n",
    "    labelFontSize = 20,\n",
    "    titleFontSize = 22\n",
    ").configure_axisX(\n",
    "    labelAngle = 90,\n",
    "    tickBand = 'extent'\n",
    ")\n",
    "\n",
    "display(p5)"
   ]
  },
  {
   "cell_type": "markdown",
   "metadata": {
    "slideshow": {
     "slide_type": "subslide"
    }
   },
   "source": [
    "### We are missing the most important age group\n",
    "\n",
    "<br>\n",
    "<center>\n",
    "<img src=\"figs/youth_hiv.png\" width=\"600\"/>\n",
    "</center>"
   ]
  },
  {
   "cell_type": "markdown",
   "metadata": {
    "slideshow": {
     "slide_type": "slide"
    }
   },
   "source": [
    "## Perinatal infections"
   ]
  },
  {
   "cell_type": "markdown",
   "metadata": {
    "slideshow": {
     "slide_type": "subslide"
    }
   },
   "source": [
    "### Relatively simple, but virtually always managed by a specialist\n",
    "\n",
    "- Send the patients from the nursery to a pediatric HIV clinic\n",
    "\n",
    "- That clinic will typically do all well child visits and acute care\n",
    "\n",
    "- The pediatric HIV clinic at NCH is called FACES"
   ]
  },
  {
   "cell_type": "markdown",
   "metadata": {
    "slideshow": {
     "slide_type": "slide"
    }
   },
   "source": [
    "## Cases in Adolescence or Adults"
   ]
  },
  {
   "cell_type": "markdown",
   "metadata": {
    "slideshow": {
     "slide_type": "subslide"
    }
   },
   "source": [
    "### Imagine two cases: 1\n",
    "\n",
    "1. 16yo F with history of several STIs is presenting for concern for vaginal discharge, itching and abdominal pain. She has been sexually active with 3 girls and 4 boys. She engages in receptive vaginal sex and infrequently uses barrier protection. She knows all of her male partners well and they all only engage in sex with women and none of them use IV drugs. Her STIs include multiple instances with chlamydia. She has also had trichomonas and ocassionally has gential HSV outbreaks."
   ]
  },
  {
   "cell_type": "markdown",
   "metadata": {
    "slideshow": {
     "slide_type": "subslide"
    }
   },
   "source": [
    "### Imagine two cases: 2\n",
    "\n",
    "2. 20yo M with no significant medical history who is presenting for routine health maintenance. He is in a 2-year long monogamous relationship with his husband. They were tested for HIV prior to having sex almost two years ago and both were negative. As a result, they never use barrier protection during receptive and insertive oral and anal sex."
   ]
  },
  {
   "cell_type": "markdown",
   "metadata": {
    "slideshow": {
     "slide_type": "slide"
    }
   },
   "source": [
    "## Pre-Infection"
   ]
  },
  {
   "cell_type": "markdown",
   "metadata": {
    "slideshow": {
     "slide_type": "subslide"
    }
   },
   "source": [
    "#### Of those cases, who needs PrEP per USPSTF guidelines?"
   ]
  },
  {
   "cell_type": "markdown",
   "metadata": {
    "slideshow": {
     "slide_type": "subslide"
    }
   },
   "source": [
    "### USPSTF Guidance\n",
    "\n",
    "1. Men who have sex with men, are sexually active, and have 1 of the following characteristics:\n",
    "    - A serodiscordant sex partner (ie, in a sexual relationship with a partner living with HIV)\n",
    "    - Inconsistent use of condoms during receptive or insertive anal sex\n",
    "    - A sexually transmitted infection (STI) with syphilis, gonorrhea, or chlamydia within the past 6 months"
   ]
  },
  {
   "cell_type": "markdown",
   "metadata": {
    "slideshow": {
     "slide_type": "subslide"
    }
   },
   "source": [
    "### USPSTF Guidance\n",
    "\n",
    "2. Heterosexually active women and men who have 1 of the following characteristics:\n",
    "    - A serodiscordant sex partner (ie, in a sexual relationship with a partner living with HIV)\n",
    "    - Inconsistent use of condoms during sex with a partner whose HIV status is unknown and who is at high risk (eg, a person who injects drugs or a man who has sex with men and women)\n",
    "    - An STI with syphilis or gonorrhea within the past 6 months\n",
    "3. Persons who inject drugs and have 1 of the following characteristics:\n",
    "    - Shared use of drug injection equipment\n",
    "    - Risk of sexual acquisition of HIV (see above)"
   ]
  },
  {
   "cell_type": "markdown",
   "metadata": {
    "slideshow": {
     "slide_type": "subslide"
    }
   },
   "source": [
    "### CDC Guidance\n",
    "\n",
    "1. Sexually active adolescents and adults\n",
    "    - Anal or vaginal sex in the past 6 months; __and__\n",
    "    - HIV-positive sexual partner (especially if partner has unknown or detectable viral load); __or__\n",
    "    - Recent bacterial STI; __or__\n",
    "    - History of inconsistent or no condom use with sexual partner(s)\n",
    "2. Person who inject drugs\n",
    "    - HIV-positive injecting partner; __or__\n",
    "    - Shares drug preparation or injection equipment"
   ]
  },
  {
   "cell_type": "markdown",
   "metadata": {
    "slideshow": {
     "slide_type": "subslide"
    }
   },
   "source": [
    "#### I tend to use the CDC Guidance, but it is *extremely* broad"
   ]
  },
  {
   "cell_type": "markdown",
   "metadata": {
    "slideshow": {
     "slide_type": "subslide"
    }
   },
   "source": [
    "### Also FYI, our state is *Terrible* at starting PrEP\n",
    "\n",
    "<center>\n",
    "<img src=\"figs/prep.jpg\" width=\"750\"/>\n",
    "</center>\n",
    "\n",
    "<b><small>PrEP Coverage, by State, United States, 2018</small></b>\n",
    "<small>For this figure, PrEP coverage is represented as a percentage and calculated by the number of persons prescribed PrEP (n = 219,691 in 2018) divided by estimated number of persons with indications for PrEP (n = 1,211,777 in 2017).</small>"
   ]
  },
  {
   "cell_type": "markdown",
   "metadata": {
    "slideshow": {
     "slide_type": "subslide"
    }
   },
   "source": [
    "### How effective can we be at preventing HIV transmission - condoms?\n",
    "\n",
    "When used consistently, condoms are ~80% effective at preventing HIV transmission"
   ]
  },
  {
   "cell_type": "markdown",
   "metadata": {
    "slideshow": {
     "slide_type": "subslide"
    }
   },
   "source": [
    "### How effect can we be at preventing HIV transmission - PrEP pills?\n",
    "\n",
    "- MSM studies\n",
    "    - **iPrEx**\n",
    "        - 2500 seronegative high-risk people\n",
    "        - Daily Truvada versus Placebo\n",
    "        - 44% fewer HIV infections in treatment group\n",
    "    - **IPERGAY**\n",
    "        - 400 sexually active men and transgender women without HIV \n",
    "        - Truvada before and after sexual activity for prevention\n",
    "        - 86% relative risk reduction\n",
    "    - **DISCOVER**\n",
    "        - 5387 seronegative high-risk people \n",
    "        - Daily Truvada versus Descovy\n",
    "        - Descovy was non-inferior\n",
    "        - Descovy had better bone and renal toxicity profile\n",
    "        - Descovy lead to 1.1kg weight gain \n"
   ]
  },
  {
   "cell_type": "markdown",
   "metadata": {
    "slideshow": {
     "slide_type": "subslide"
    }
   },
   "source": [
    "### How effect can we be at preventing HIV transmission - PrEP pills?\n",
    "\n",
    "- Heterosexual Men and Women\n",
    "    - **Partners PrEP**\n",
    "        - 4758 HIV-serodifferent heterosexual couples in Uganda and Kenya\n",
    "        - Daily TDF, Truvada or placebo\n",
    "        - Truvada\n",
    "            - Men - 84% reduction in transmission\n",
    "            - Women - 66% reduction in transmission\n",
    "        - TDF\n",
    "            - Women - 71% reduction in transmission\n",
    "            - Men - 63% reduction in transmission\n",
    "    - **TDF2**\n",
    "        - 1219 heterosexual men and women in Botswana\n",
    "        - Daily Truvada versus Placebo\n",
    "        - 62% reduction in transmission overall"
   ]
  },
  {
   "cell_type": "markdown",
   "metadata": {
    "slideshow": {
     "slide_type": "subslide"
    }
   },
   "source": [
    "### How effect can we be at preventing HIV transmission - PrEP pills?\n",
    "- Women\n",
    "    - **FEM-PrEP**\n",
    "        - 2120 heterosexual women in South Africa, Kenya, Tanzania\n",
    "        - Daily Truvada versus Placebo\n",
    "        - Terminated for futility"
   ]
  },
  {
   "cell_type": "markdown",
   "metadata": {
    "slideshow": {
     "slide_type": "subslide"
    }
   },
   "source": [
    "### Actually taking the drug is *very* important!"
   ]
  },
  {
   "cell_type": "code",
   "execution_count": 6,
   "metadata": {
    "slideshow": {
     "slide_type": "-"
    }
   },
   "outputs": [
    {
     "data": {
      "text/html": [
       "\n",
       "<div id=\"altair-viz-438835774c1047e8949e82d97d4e980a\"></div>\n",
       "<script type=\"text/javascript\">\n",
       "  (function(spec, embedOpt){\n",
       "    let outputDiv = document.currentScript.previousElementSibling;\n",
       "    if (outputDiv.id !== \"altair-viz-438835774c1047e8949e82d97d4e980a\") {\n",
       "      outputDiv = document.getElementById(\"altair-viz-438835774c1047e8949e82d97d4e980a\");\n",
       "    }\n",
       "    const paths = {\n",
       "      \"vega\": \"https://cdn.jsdelivr.net/npm//vega@5?noext\",\n",
       "      \"vega-lib\": \"https://cdn.jsdelivr.net/npm//vega-lib?noext\",\n",
       "      \"vega-lite\": \"https://cdn.jsdelivr.net/npm//vega-lite@4.8.1?noext\",\n",
       "      \"vega-embed\": \"https://cdn.jsdelivr.net/npm//vega-embed@6?noext\",\n",
       "    };\n",
       "\n",
       "    function loadScript(lib) {\n",
       "      return new Promise(function(resolve, reject) {\n",
       "        var s = document.createElement('script');\n",
       "        s.src = paths[lib];\n",
       "        s.async = true;\n",
       "        s.onload = () => resolve(paths[lib]);\n",
       "        s.onerror = () => reject(`Error loading script: ${paths[lib]}`);\n",
       "        document.getElementsByTagName(\"head\")[0].appendChild(s);\n",
       "      });\n",
       "    }\n",
       "\n",
       "    function showError(err) {\n",
       "      outputDiv.innerHTML = `<div class=\"error\" style=\"color:red;\">${err}</div>`;\n",
       "      throw err;\n",
       "    }\n",
       "\n",
       "    function displayChart(vegaEmbed) {\n",
       "      vegaEmbed(outputDiv, spec, embedOpt)\n",
       "        .catch(err => showError(`Javascript Error: ${err.message}<br>This usually means there's a typo in your chart specification. See the javascript console for the full traceback.`));\n",
       "    }\n",
       "\n",
       "    if(typeof define === \"function\" && define.amd) {\n",
       "      requirejs.config({paths});\n",
       "      require([\"vega-embed\"], displayChart, err => showError(`Error loading script: ${err.message}`));\n",
       "    } else if (typeof vegaEmbed === \"function\") {\n",
       "      displayChart(vegaEmbed);\n",
       "    } else {\n",
       "      loadScript(\"vega\")\n",
       "        .then(() => loadScript(\"vega-lite\"))\n",
       "        .then(() => loadScript(\"vega-embed\"))\n",
       "        .catch(showError)\n",
       "        .then(() => displayChart(vegaEmbed));\n",
       "    }\n",
       "  })({\"config\": {\"view\": {\"continuousWidth\": 400, \"continuousHeight\": 300, \"strokeWidth\": 0.0}, \"axis\": {\"labelFontSize\": 20, \"titleFontSize\": 22}, \"axisX\": {\"tickBand\": \"extent\"}}, \"data\": {\"name\": \"data-c4796efca186044d7d25ef55975fdf08\"}, \"mark\": \"bar\", \"encoding\": {\"color\": {\"type\": \"nominal\", \"field\": \"Group\", \"legend\": null}, \"column\": {\"type\": \"nominal\", \"field\": \"Trial\", \"header\": {\"labelFontSize\": 20, \"title\": null}}, \"x\": {\"type\": \"nominal\", \"field\": \"Group\", \"title\": null}, \"y\": {\"type\": \"quantitative\", \"field\": \"Efficacy\"}}, \"height\": 400, \"width\": 200, \"$schema\": \"https://vega.github.io/schema/vega-lite/v4.8.1.json\", \"datasets\": {\"data-c4796efca186044d7d25ef55975fdf08\": [{\"Trial\": \"Partner PrEP\", \"Efficacy\": 75, \"Group\": \"All\"}, {\"Trial\": \"Partner PrEP\", \"Efficacy\": 90, \"Group\": \"Adherent\"}, {\"Trial\": \"TDF2\", \"Efficacy\": 63, \"Group\": \"All\"}, {\"Trial\": \"TDF2\", \"Efficacy\": 78, \"Group\": \"Adherent\"}, {\"Trial\": \"iPrEx\", \"Efficacy\": 44, \"Group\": \"All\"}, {\"Trial\": \"iPrEx\", \"Efficacy\": 92, \"Group\": \"Adherent\"}]}}, {\"mode\": \"vega-lite\"});\n",
       "</script>"
      ],
      "text/plain": [
       "alt.Chart(...)"
      ]
     },
     "metadata": {},
     "output_type": "display_data"
    }
   ],
   "source": [
    "df6 = pd.DataFrame([['Partner PrEP', 75, 'All'], \n",
    "                   ['Partner PrEP', 90, 'Adherent'], \n",
    "                   ['TDF2', 63, 'All'], \n",
    "                   ['TDF2', 78, 'Adherent'],\n",
    "                   ['iPrEx', 44, 'All'], \n",
    "                   ['iPrEx', 92, 'Adherent']], \n",
    "                   columns=['Trial', 'Efficacy', 'Group'])\n",
    "\n",
    "p6 = alt.Chart(df6).mark_bar().encode(\n",
    "    column = alt.Column('Trial', \n",
    "                         header = alt.Header(labelFontSize = 20, title = None)),\n",
    "    x = alt.X('Group', title = None),\n",
    "    y = 'Efficacy',\n",
    "    color = alt.Color('Group', legend = None)).properties(\n",
    "    width = 200,\n",
    "    height = 400).configure_axis(\n",
    "    labelFontSize = 20,\n",
    "    titleFontSize = 22).configure_view(\n",
    "    strokeWidth = 0.0).configure_axisX(\n",
    "    tickBand = 'extent'\n",
    ")\n",
    "\n",
    "display(p6)"
   ]
  },
  {
   "cell_type": "markdown",
   "metadata": {
    "slideshow": {
     "slide_type": "subslide"
    }
   },
   "source": [
    "### Approved regimens\n",
    "\n",
    "- **Truvada** - Tenofovir Disoproxil Fumarate + Emtricitabine\n",
    "    - Must be > 35 kg\n",
    "    - CrCl > 60 mL/min\n",
    "    - Can lead to renal and bone mineralization diseases\n",
    "\n",
    "- **Descovy** - Tenofovir Alafenamide + Emtricitabine\n",
    "    - Must be > 35 kg\n",
    "    - CrCl > 30 mL/min\n",
    "    - Can cause weight gain\n",
    "    - Can raise cholesterol\n",
    "    - Can worsen cardiovascular risk scores\n",
    "    - **Still not approved in cisgender women (really in receptive vaginal sex)**"
   ]
  },
  {
   "cell_type": "markdown",
   "metadata": {
    "slideshow": {
     "slide_type": "subslide"
    }
   },
   "source": [
    "### What do you need to order before starting PrEP?\n",
    "\n",
    "<br>\n",
    "\n",
    "| Laboratory Test       | Baseline | Every 3 Months | Every 6 Months | Extra                         |\n",
    "|:----------------------|:--------:|:--------------:|:--------------:|:------------------------------|\n",
    "| HIV screening         |     x    |        x       |                | May need PCR test             |\n",
    "| HBV and HCV screening |     x    |                |        x       | Consider HBV vaccine          |\n",
    "| Creatinine            |     x    |                |        x       | May need to stop if increases |\n",
    "| STI Screening         |     x    |        x       |                | Include oral and rectal prn   |\n",
    "| Pregnancy test        |     x    |        x       |                |                               |"
   ]
  },
  {
   "cell_type": "markdown",
   "metadata": {
    "slideshow": {
     "slide_type": "subslide"
    }
   },
   "source": [
    "### Personal opinion incoming...\n",
    "\n",
    "- It is ridiculous that we are missing 80-90% of people who should be on PrEP\n",
    "- Here is an easy rule of thumb: \n",
    "    - The CDC guidance says **anyone with a recent bacterial STI.**\n",
    "        - **If you diagnose someone with an STI, they should probably walk out with labs for PrEP plus treatment.**\n",
    "        - Maybe not for Trich, but honestly this seems like an oversight"
   ]
  },
  {
   "cell_type": "markdown",
   "metadata": {
    "slideshow": {
     "slide_type": "subslide"
    }
   },
   "source": [
    "### Link to PrEP care\n",
    "\n",
    "- There is a PrEP linkage to care team at Columbus Public Health\n",
    "    - https://www.columbus.gov/publichealth/programs/Sexual-Health/HIV-Prevention/\n",
    "    - Call or email: 614-724-7737 or PrEP@columbus.gov\n",
    "- From NCH\n",
    "    - Can consult Adolescent\n",
    "    - Can call the on call for FACES who is almost always Dr. Brundrett\n",
    "        - She will follow them up in clinic\n",
    "    - Equitas is an HIV clinic that can do this\n",
    "    - Can also send them to me at South High\n",
    "- From OSU\n",
    "    - Can write the prescription for 3 months and follow up with ID clinic, FACES or Equitas\n",
    "    - Dr. Brandon Pollack in GIM does HIV primary care\n",
    "    - You can also follow them in clinic or send them to me"
   ]
  },
  {
   "cell_type": "markdown",
   "metadata": {
    "slideshow": {
     "slide_type": "subslide"
    }
   },
   "source": [
    "### Screening and Diagnosis"
   ]
  },
  {
   "cell_type": "markdown",
   "metadata": {
    "cell_style": "center",
    "slideshow": {
     "slide_type": "subslide"
    }
   },
   "source": [
    "### Frequency of Screening\n",
    "\n",
    "- All persons 13-64yo\n",
    "    - Do it **at least once**\n",
    "- Persons at high risk per the guidance earlier\n",
    "    - Do it **at least annually**\n",
    "    - Keep in mind on PrEP it is **at least every 3 months**\n",
    "    - So maybe should be that frequent if they are in that high risk group and not on PrEP?"
   ]
  },
  {
   "cell_type": "markdown",
   "metadata": {
    "cell_style": "center",
    "slideshow": {
     "slide_type": "subslide"
    }
   },
   "source": [
    "### Sobering information\n",
    "\n",
    "<center>\n",
    "<img src=\"figs/hiv_infographic.png\" width=\"500\"/>\n",
    "</center>"
   ]
  },
  {
   "cell_type": "markdown",
   "metadata": {
    "slideshow": {
     "slide_type": "subslide"
    }
   },
   "source": [
    "#### What kind of consent do you need for testing?"
   ]
  },
  {
   "cell_type": "markdown",
   "metadata": {
    "slideshow": {
     "slide_type": "subslide"
    }
   },
   "source": [
    "**\"All states now have HIV testing laws that are consistent with CDC recommendations for consent (e.g. opt-out testing, part of the general medical consent form, and oral consent acceptable) and counseling (e.g. prevention counseling not required prior to HIV testing).\"**\n",
    "\n",
    "<small>https://www.hiv.uw.edu/go/screening-diagnosis/recommendations-testing/core-concept/all#cdc-hiv-screening-recommendations</small>"
   ]
  },
  {
   "cell_type": "markdown",
   "metadata": {
    "slideshow": {
     "slide_type": "subslide"
    }
   },
   "source": [
    "### Which test?\n",
    "\n",
    "- Screen with Ag-Ab test \n",
    "\n",
    "- If acute symptoms, just add the viral load\n",
    "\n",
    "- If recent exposure, just add the viral load\n",
    "    - How recent?"
   ]
  },
  {
   "cell_type": "markdown",
   "metadata": {
    "slideshow": {
     "slide_type": "subslide"
    }
   },
   "source": [
    "### The current (4th) generation Ag-Ab has ~45 window"
   ]
  },
  {
   "cell_type": "code",
   "execution_count": 7,
   "metadata": {},
   "outputs": [
    {
     "data": {
      "text/html": [
       "\n",
       "<div id=\"altair-viz-39784f5b8e4f43c8b7f4186135a8d4c4\"></div>\n",
       "<script type=\"text/javascript\">\n",
       "  (function(spec, embedOpt){\n",
       "    let outputDiv = document.currentScript.previousElementSibling;\n",
       "    if (outputDiv.id !== \"altair-viz-39784f5b8e4f43c8b7f4186135a8d4c4\") {\n",
       "      outputDiv = document.getElementById(\"altair-viz-39784f5b8e4f43c8b7f4186135a8d4c4\");\n",
       "    }\n",
       "    const paths = {\n",
       "      \"vega\": \"https://cdn.jsdelivr.net/npm//vega@5?noext\",\n",
       "      \"vega-lib\": \"https://cdn.jsdelivr.net/npm//vega-lib?noext\",\n",
       "      \"vega-lite\": \"https://cdn.jsdelivr.net/npm//vega-lite@4.8.1?noext\",\n",
       "      \"vega-embed\": \"https://cdn.jsdelivr.net/npm//vega-embed@6?noext\",\n",
       "    };\n",
       "\n",
       "    function loadScript(lib) {\n",
       "      return new Promise(function(resolve, reject) {\n",
       "        var s = document.createElement('script');\n",
       "        s.src = paths[lib];\n",
       "        s.async = true;\n",
       "        s.onload = () => resolve(paths[lib]);\n",
       "        s.onerror = () => reject(`Error loading script: ${paths[lib]}`);\n",
       "        document.getElementsByTagName(\"head\")[0].appendChild(s);\n",
       "      });\n",
       "    }\n",
       "\n",
       "    function showError(err) {\n",
       "      outputDiv.innerHTML = `<div class=\"error\" style=\"color:red;\">${err}</div>`;\n",
       "      throw err;\n",
       "    }\n",
       "\n",
       "    function displayChart(vegaEmbed) {\n",
       "      vegaEmbed(outputDiv, spec, embedOpt)\n",
       "        .catch(err => showError(`Javascript Error: ${err.message}<br>This usually means there's a typo in your chart specification. See the javascript console for the full traceback.`));\n",
       "    }\n",
       "\n",
       "    if(typeof define === \"function\" && define.amd) {\n",
       "      requirejs.config({paths});\n",
       "      require([\"vega-embed\"], displayChart, err => showError(`Error loading script: ${err.message}`));\n",
       "    } else if (typeof vegaEmbed === \"function\") {\n",
       "      displayChart(vegaEmbed);\n",
       "    } else {\n",
       "      loadScript(\"vega\")\n",
       "        .then(() => loadScript(\"vega-lite\"))\n",
       "        .then(() => loadScript(\"vega-embed\"))\n",
       "        .catch(showError)\n",
       "        .then(() => displayChart(vegaEmbed));\n",
       "    }\n",
       "  })({\"config\": {\"view\": {\"continuousWidth\": 400, \"continuousHeight\": 300, \"strokeWidth\": 0.0}, \"axis\": {\"labelFontSize\": 20, \"titleFontSize\": 22}}, \"layer\": [{\"mark\": {\"type\": \"circle\", \"opacity\": 1.0, \"size\": 250}, \"encoding\": {\"x\": {\"type\": \"quantitative\", \"field\": \"time\", \"title\": \"time since infection\"}, \"y\": {\"type\": \"quantitative\", \"field\": \"probability of positive (sensitivity)\"}}}, {\"mark\": {\"type\": \"line\", \"opacity\": 1.0, \"size\": 4}, \"encoding\": {\"x\": {\"type\": \"quantitative\", \"field\": \"time\", \"title\": \"time since infection\"}, \"y\": {\"type\": \"quantitative\", \"field\": \"probability of positive (sensitivity)\"}}}], \"data\": {\"name\": \"data-f7297386ac11ec0fcf34a01f01fd73b7\"}, \"height\": 400, \"width\": 650, \"$schema\": \"https://vega.github.io/schema/vega-lite/v4.8.1.json\", \"datasets\": {\"data-f7297386ac11ec0fcf34a01f01fd73b7\": [{\"time\": 13.0, \"probability of positive (sensitivity)\": 0.25}, {\"time\": 17.8, \"probability of positive (sensitivity)\": 0.5}, {\"time\": 23.6, \"probability of positive (sensitivity)\": 0.75}, {\"time\": 44.3, \"probability of positive (sensitivity)\": 1.0}]}}, {\"mode\": \"vega-lite\"});\n",
       "</script>"
      ],
      "text/plain": [
       "alt.LayerChart(...)"
      ]
     },
     "metadata": {},
     "output_type": "display_data"
    }
   ],
   "source": [
    "df7 = pd.DataFrame({'time': [13.0, 17.8, 23.6, 44.3], \n",
    "                    'probability of positive (sensitivity)': [.25, .50, .75, 1.0]})\n",
    "\n",
    "points = alt.Chart(df7).mark_circle(\n",
    "    opacity = 1.0, size = 250).encode(\n",
    "    x = alt.X('time', title = 'time since infection'),\n",
    "    y = 'probability of positive (sensitivity)')\n",
    "\n",
    "line = alt.Chart(df7).mark_line(\n",
    "    opacity = 1.0, size = 4).encode(\n",
    "    x = alt.X('time', title = 'time since infection'),\n",
    "    y = 'probability of positive (sensitivity)')\n",
    "\n",
    "d7 = (points + line).properties(\n",
    "    width = 650,\n",
    "    height = 400).configure_axis(\n",
    "    labelFontSize = 20,\n",
    "    titleFontSize = 22).configure_view(\n",
    "    strokeWidth = 0.0)\n",
    "\n",
    "display(d7)"
   ]
  },
  {
   "cell_type": "markdown",
   "metadata": {
    "slideshow": {
     "slide_type": "subslide"
    }
   },
   "source": [
    "#### **Common question:** What if the initial p24 (Ag) is positive and the subsequent HIV1/2 differentiation (Ab) test is negative?"
   ]
  },
  {
   "cell_type": "markdown",
   "metadata": {
    "slideshow": {
     "slide_type": "subslide"
    }
   },
   "source": [
    "<center>\n",
    "<img src=\"figs/HIV-testing_protocol.jpg\" width=\"700\"/>\n",
    "</center>"
   ]
  },
  {
   "cell_type": "markdown",
   "metadata": {
    "slideshow": {
     "slide_type": "slide"
    }
   },
   "source": [
    "## Post-Diagnosis"
   ]
  },
  {
   "cell_type": "markdown",
   "metadata": {
    "slideshow": {
     "slide_type": "subslide"
    }
   },
   "source": [
    "### Linkage to care is among the most important things you can do for patients who are recently diagnosed.\n",
    "\n",
    "- They are usually scared and angry. \n",
    "\n",
    "- Try to make their appointment if less than 7 days. \n",
    "\n",
    "- Be very concrete about where to go.\n",
    "\n",
    "- If we cannot link them to care, making the diagnosis is essentially useless."
   ]
  },
  {
   "cell_type": "markdown",
   "metadata": {
    "slideshow": {
     "slide_type": "subslide"
    }
   },
   "source": [
    "### HIV Primary Care: Initial History"
   ]
  },
  {
   "cell_type": "markdown",
   "metadata": {
    "slideshow": {
     "slide_type": "subslide"
    }
   },
   "source": [
    "### Things to be sure to add standard history (hijacked from National HIV Curriculum)\n",
    "\n",
    "- HIV-Related History\n",
    "    - Date of diagnosis of HIV and, if known, the approximate date of initial HIV acquisition\n",
    "    - Identified risk factors related to HIV acquisition\n",
    "    - Prior HIV-associated complications and comorbidities, including opportunistic infections, malignancies, and other HIV-related conditions\n",
    " - Sexual History\n",
    "    - Sexual practices, including gender of partners, exposure sites with sex, condom use, and contraceptive use (if needed)\n",
    "    - History of prior sexually transmitted infections and treatment for these infections\n",
    "    - HIV status of their partners, and whether the individual has disclosed their HIV status to their partners\n"
   ]
  },
  {
   "cell_type": "markdown",
   "metadata": {
    "slideshow": {
     "slide_type": "subslide"
    }
   },
   "source": [
    "### Things to be sure to add standard history (hijacked from National HIV Curriculum)\n",
    "- Substance Use History\n",
    "    - Assess for current or past tobacco, alcohol, and illicit drug use \n",
    "    - If substance use present, address impact on daily activities\n",
    "        - Review current and past treatment for any substance use disorders\n",
    "- Social, Family, and Travel History\n",
    "    - Social support, coping strategies (including how the individual is dealing with a new HIV diagnosis or established HIV), employment status and history, financial status, housing, marital status, and desires related to family planning/reproduction\n",
    "    - Residence and travel history (to determine if patient has lived in or traveled to regions endemic for certain diseases, such as histoplasmosis or coccidioidomycosis)"
   ]
  },
  {
   "cell_type": "markdown",
   "metadata": {
    "slideshow": {
     "slide_type": "subslide"
    }
   },
   "source": [
    "### HIV Primary Care: Labs"
   ]
  },
  {
   "cell_type": "markdown",
   "metadata": {
    "slideshow": {
     "slide_type": "subslide"
    }
   },
   "source": [
    "### Labs to get after HIV Ag-Ab diagnosis\n",
    "\n",
    "- **Must get**\n",
    "    - Viral Load\n",
    "        - If VL > 100,000 copies/mL, could affect initiation choice\n",
    "    - CMP\n",
    "    - CBC\n",
    "    - CD4 count (with percentage)\n",
    "    - Lipids and A1C\n",
    "    - Pregnancy test\n",
    "    - Hepatitis panel to include HAV, HBV (sAg, sAb, and cAb) and HCV\n",
    "        - Vaccinate prn\n",
    "    - M. Tb.\n",
    "        - Either skin testing or quantiferon\n",
    "        - If CD4+ count comes back < 200, repeat with skin testing\n",
    "    - STIs (GC/Chlamydia/Syph)\n",
    "    - Cancer (Cervical and Anal ensure up to date)"
   ]
  },
  {
   "cell_type": "markdown",
   "metadata": {
    "slideshow": {
     "slide_type": "subslide"
    }
   },
   "source": [
    "### Labs to get after HIV Ag-Ab diagnosis\n",
    "\n",
    "- **Should get**\n",
    "    - Genotype\n",
    "    - UA\n",
    "- **Could get**\n",
    "    - Testosterone level\n",
    "- **Probably don't need immediately except is specific circumstances**\n",
    "    - HLA-B5701\n",
    "        - For Abacavir (Triumeq), which you probably would not go to first these days\n",
    "    - Coreceptor tropism testing\n",
    "    - G6PD\n",
    "    - CMV\n",
    "    - MAC\n",
    "    - Toxoplasma\n",
    "    - Cryptococcal\n",
    "    - Bartonella"
   ]
  },
  {
   "cell_type": "markdown",
   "metadata": {
    "slideshow": {
     "slide_type": "subslide"
    }
   },
   "source": [
    "### HIV Primary Care: Treatment Initiation"
   ]
  },
  {
   "cell_type": "markdown",
   "metadata": {
    "slideshow": {
     "slide_type": "subslide"
    }
   },
   "source": [
    "#### When someone is diagnosed and is otherwise uncomplicated, please draw the labs and start treatment.\n",
    "\n",
    "#### If you are uncomfortable with starting treatment, then call someone who can advise you that day."
   ]
  },
  {
   "cell_type": "markdown",
   "metadata": {
    "slideshow": {
     "slide_type": "subslide"
    }
   },
   "source": [
    "### The single pills ART regimens we should all know\n",
    "<br>\n",
    "\n",
    "<center>\n",
    "<img src=\"figs/single_pill_must_know.png\" width=\"600\"/>\n",
    "</center>"
   ]
  },
  {
   "cell_type": "markdown",
   "metadata": {
    "slideshow": {
     "slide_type": "subslide"
    }
   },
   "source": [
    "### The single pill ART regimens we should all know\n",
    "\n",
    "- **Biktarvy** - One pill once a day\n",
    "    - Two NRTIs\n",
    "        - Tenofovir (TAF) and Emtricitabine\n",
    "    - One integrase inhibitor\n",
    "        - Biktegravir\n",
    "- **Genvoya (and Stribild)** - One pill once a day\n",
    "    - Two NRTIs\n",
    "        - Genvoya - Tenofovir (TAF) and Emtricitabine\n",
    "        - Stribild - Tenofovir (TDF) and Emtricitabine\n",
    "    - One integrase inhibitor\n",
    "        - Elvitegravir (w/ booster)\n",
    "- **Triumeq** - **If HLA-B5701 is negative and HBV is negative** - One pill once a day\n",
    "    - Two NRTIs\n",
    "        - Abacavir and Lamivudine\n",
    "    - One integrase inhibitor\n",
    "        - Dolutegravir"
   ]
  },
  {
   "cell_type": "markdown",
   "metadata": {
    "slideshow": {
     "slide_type": "subslide"
    }
   },
   "source": [
    "### The two pill ART regimens we should all know\n",
    "<br>\n",
    "\n",
    "<center>\n",
    "<img src=\"figs/two_pill_1.png\" width=\"600\"/>\n",
    "<img src=\"figs/two_pill_2.png\" width=\"600\"/>\n",
    "</center>"
   ]
  },
  {
   "cell_type": "markdown",
   "metadata": {
    "slideshow": {
     "slide_type": "subslide"
    }
   },
   "source": [
    "### The two pill ART regimens we should all know\n",
    "\n",
    "- **Either Tivicay or Isentress plus either Descovy or Truvada** - Two pills once a day\n",
    "    - Two NRTIs\n",
    "        - Descovy - Tenofovir (TAF) and Emtricitabine; **or**\n",
    "        - Truvada - Tenofovir (TDF) and Emtricitabine\n",
    "    - One integrase inhibitor\n",
    "        - Tivicay **\\*preferred\\*** - Dolutegravir\n",
    "        - Isentress - Raltegravir (w/ booster)\n",
    "            - Could be taken once or twice a day"
   ]
  },
  {
   "cell_type": "markdown",
   "metadata": {
    "slideshow": {
     "slide_type": "subslide"
    }
   },
   "source": [
    "### The single pill ART regimens we should recognize\n",
    "\n",
    "<br>\n",
    "<center>\n",
    "<img src=\"figs/single_pill_should_recognize.png\" width=\"600\"/>\n",
    "</center>"
   ]
  },
  {
   "cell_type": "markdown",
   "metadata": {
    "slideshow": {
     "slide_type": "subslide"
    }
   },
   "source": [
    "### Just to add\n",
    "\n",
    "- In certain situations, could substitute **protease inhibitor** or **NNRTI** for integrase inhibitor\n",
    "    - **Darunavir** (w/ booster) is go to **protease inhibitor**\n",
    "    - **Doravirine** is currently the go to **NNRTI**\n",
    "        - **Efavirenz** could also be used\n",
    "        - **Rilpivirine** also used if VL < 100,000 and CD4+ > 200"
   ]
  },
  {
   "cell_type": "markdown",
   "metadata": {
    "slideshow": {
     "slide_type": "subslide"
    }
   },
   "source": [
    "#### Otherwise, send them to a HIV clinic."
   ]
  },
  {
   "cell_type": "markdown",
   "metadata": {
    "slideshow": {
     "slide_type": "subslide"
    }
   },
   "source": [
    "### HIV Primary Care: Follow Up"
   ]
  },
  {
   "cell_type": "markdown",
   "metadata": {
    "slideshow": {
     "slide_type": "subslide"
    }
   },
   "source": [
    "### After initiation bring them back frequently\n",
    "\n",
    "- In 2-8 weeks\n",
    "    - VL\n",
    "    - Chem 7\n",
    "    - LFTs\n",
    "- Repeat **VL** every 4 weeks until supressed\n",
    "- Every 3 months\n",
    "    - VL\n",
    "    - CBC w/ diff\n",
    "    - CD4+\n",
    "- Every 6 months\n",
    "    - Chem 7\n",
    "    - LFTs\n",
    "    - UA if on TDF-containing regimen\n",
    "- Every 12 months\n",
    "    - All **must get** initial labs"
   ]
  },
  {
   "cell_type": "markdown",
   "metadata": {
    "slideshow": {
     "slide_type": "subslide"
    }
   },
   "source": [
    "#### Once a patient has a suppressed viral load, they can move to q3 month follow up\n",
    "\n",
    "#### Once a patient is suppressed for 2 years, then can move to q6 month follow up"
   ]
  },
  {
   "cell_type": "markdown",
   "metadata": {
    "slideshow": {
     "slide_type": "subslide"
    }
   },
   "source": [
    "### HIV Primary Care: Outcome after treatment"
   ]
  },
  {
   "cell_type": "markdown",
   "metadata": {
    "slideshow": {
     "slide_type": "subslide"
    }
   },
   "source": [
    "### Intermediate term outcome\n",
    "\n",
    "- **Suppression:** A response to antiretroviral therapy with an HIV RNA level below the lower level of detection of available assays\n",
    "\n",
    "- **Incomplete Virologic Response:** Failure to suppress HIV RNA to undetectable levels after 24 weeks on an antiretroviral regimen, as documented by two consecutive HIV RNA levels greater than or equal to 200 copies/mL in a person who has not previously achieved virologic suppression\n",
    "\n",
    "- **Failure:** The inability to achieve or maintain HIV RNA levels less than 200 copies/mL\n",
    "\n",
    "- **In any event, you need more data**"
   ]
  },
  {
   "cell_type": "markdown",
   "metadata": {
    "slideshow": {
     "slide_type": "subslide"
    }
   },
   "source": [
    "### Viral between undetectable and 200\n",
    "\n",
    "- Typically will stay on the same therapy and check VL every 3 months\n",
    "\n",
    "- Some people will get genotype and switch to a regimen that includes either an integrase or a protease inhibitor"
   ]
  },
  {
   "cell_type": "markdown",
   "metadata": {
    "slideshow": {
     "slide_type": "subslide"
    }
   },
   "source": [
    "### Viral load between 200 and 1000\n",
    "\n",
    "- **Should be referred to specialist**\n",
    "\n",
    "- Frequently associated with resistance\n",
    "\n",
    "- If VL 500-1000\n",
    "    - Typically will leave on therapy and get a genotype\n",
    "- If VL 200-500\n",
    "    - Will often get a resistance profile but sometimes it can't be sufficiently amplified"
   ]
  },
  {
   "cell_type": "markdown",
   "metadata": {
    "slideshow": {
     "slide_type": "subslide"
    }
   },
   "source": [
    "### Viral load greater than 1000\n",
    "\n",
    "- Needs a genotype\n",
    "\n",
    "- If no resistance mutations, it is probably an adherence problem\n",
    "    - **They probably need case management and social work**\n",
    "    \n",
    "- If there are resistance mutations, **they need a specialist**"
   ]
  },
  {
   "cell_type": "markdown",
   "metadata": {
    "slideshow": {
     "slide_type": "slide"
    }
   },
   "source": [
    "## Very important but not time to cover"
   ]
  },
  {
   "cell_type": "markdown",
   "metadata": {
    "slideshow": {
     "slide_type": "subslide"
    }
   },
   "source": [
    "#### Pharmacists, case managers and social workers are a very important component of HIV care. "
   ]
  },
  {
   "cell_type": "markdown",
   "metadata": {
    "slideshow": {
     "slide_type": "slide"
    }
   },
   "source": [
    "## HIV Clinics in Columbus\n",
    "\n",
    "- OSU \n",
    "    - https://wexnermedical.osu.edu/infectious-diseases/hiv-aids\n",
    "\n",
    "- NCH - FACES Clinic\n",
    "    - https://www.nationwidechildrens.org/specialties/family-aids-clinic-and-educational-services-faces\n",
    "    - Exclusive site for perinatal infections\n",
    "    - Manages HIV in pregnancy\n",
    "\n",
    "- Equitas\n",
    "    - https://equitashealth.com/\n",
    "    - Also has things like dentistry and pharmacies\n",
    "    \n",
    "- AIDS Health Foundation\n",
    "    - https://ahf.org/"
   ]
  },
  {
   "cell_type": "markdown",
   "metadata": {
    "slideshow": {
     "slide_type": "slide"
    }
   },
   "source": [
    "# The END"
   ]
  }
 ],
 "metadata": {
  "celltoolbar": "Slideshow",
  "hide_input": false,
  "kernelspec": {
   "display_name": "Python 3",
   "language": "python",
   "name": "python3"
  },
  "language_info": {
   "codemirror_mode": {
    "name": "ipython",
    "version": 3
   },
   "file_extension": ".py",
   "mimetype": "text/x-python",
   "name": "python",
   "nbconvert_exporter": "python",
   "pygments_lexer": "ipython3",
   "version": "3.8.5"
  }
 },
 "nbformat": 4,
 "nbformat_minor": 4
}
